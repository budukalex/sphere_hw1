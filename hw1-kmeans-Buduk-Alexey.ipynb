{
 "cells": [
  {
   "cell_type": "markdown",
   "metadata": {},
   "source": [
    "# Алгоритмы интеллектуальной обработки больших объемов данных\n",
    "## Домашнее задание №1 - Метод k-средних, предобработка признаков\n"
   ]
  },
  {
   "cell_type": "markdown",
   "metadata": {},
   "source": [
    "###### <hr\\>\n",
    "**Общая информация**\n",
    "\n",
    "**Срок сдачи:** 6 марта 2017, 06:00 <br\\>\n",
    "**Штраф за опоздание:** -2 балла после 06:00 6 марта, -4 балла после 06:00 13 марта, -6 баллов после 06:00 20 марта\n",
    "\n",
    "При отправлении ДЗ указывайте фамилию в названии файла<br\\>\n",
    "\n",
    "Используйте данный Ipython Notebook при оформлении домашнего задания.\n",
    "<hr\\>"
   ]
  },
  {
   "cell_type": "markdown",
   "metadata": {},
   "source": [
    "# Первое задание - указать фамилию в имени файла"
   ]
  },
  {
   "cell_type": "code",
   "execution_count": 22,
   "metadata": {
    "collapsed": true
   },
   "outputs": [],
   "source": [
    "import pandas as pd\n",
    "import numpy as np\n",
    "import matplotlib.pyplot as plt\n",
    "\n",
    "%matplotlib inline\n",
    "\n",
    "plt.style.use('ggplot')\n",
    "plt.rcParams['figure.figsize'] = (12,5)"
   ]
  },
  {
   "cell_type": "markdown",
   "metadata": {},
   "source": [
    "# Пролог: Модуль sklearn\n",
    "На наших практических занятиях мы будем использовать [sklearn](http://scikit-learn.org/stable/index.html) (scikit-learn) - наиболее популярный модуль для работы с методами машинного обучения и анализа данных.\n",
    "\n",
    "Этот модуль регулярно обновляется, расширяется и сопровождается примерами использования тех или иных методов. Помимо самих алгоритмов (например k-средних или линейной регрессии) в нем есть множество вспомогательных функций по работе с данными."
   ]
  },
  {
   "cell_type": "markdown",
   "metadata": {},
   "source": [
    "# Туториал: Работа с различными типами признаков"
   ]
  },
  {
   "cell_type": "markdown",
   "metadata": {},
   "source": [
    "Вспомним какие типы признаков могут встретится при описании объектов исследования и как их представить в доступной для обработки компьтером форме"
   ]
  },
  {
   "cell_type": "markdown",
   "metadata": {},
   "source": [
    "Типы признаков мы будем рассматривать на примере довольно популярного набора данных [titanic](https://www.kaggle.com/c/titanic/download/train.csv) - информации о выживаемости пассажиров после известной трагедии корабля Titanic."
   ]
  },
  {
   "cell_type": "raw",
   "metadata": {},
   "source": [
    "ARIABLE DESCRIPTIONS:\n",
    "survival        Survival\n",
    "                (0 = No; 1 = Yes)\n",
    "pclass          Passenger Class\n",
    "                (1 = 1st; 2 = 2nd; 3 = 3rd)\n",
    "name            Name\n",
    "sex             Sex\n",
    "age             Age\n",
    "sibsp           Number of Siblings/Spouses Aboard\n",
    "parch           Number of Parents/Children Aboard\n",
    "ticket          Ticket Number\n",
    "fare            Passenger Fare\n",
    "cabin           Cabin\n",
    "embarked        Port of Embarkation\n",
    "                (C = Cherbourg; Q = Queenstown; S = Southampton)"
   ]
  },
  {
   "cell_type": "code",
   "execution_count": 23,
   "metadata": {
    "collapsed": false
   },
   "outputs": [
    {
     "data": {
      "text/html": [
       "<div>\n",
       "<table border=\"1\" class=\"dataframe\">\n",
       "  <thead>\n",
       "    <tr style=\"text-align: right;\">\n",
       "      <th></th>\n",
       "      <th>PassengerId</th>\n",
       "      <th>Survived</th>\n",
       "      <th>Pclass</th>\n",
       "      <th>Name</th>\n",
       "      <th>Sex</th>\n",
       "      <th>Age</th>\n",
       "      <th>SibSp</th>\n",
       "      <th>Parch</th>\n",
       "      <th>Ticket</th>\n",
       "      <th>Fare</th>\n",
       "      <th>Cabin</th>\n",
       "      <th>Embarked</th>\n",
       "    </tr>\n",
       "  </thead>\n",
       "  <tbody>\n",
       "    <tr>\n",
       "      <th>1</th>\n",
       "      <td>2</td>\n",
       "      <td>1</td>\n",
       "      <td>1</td>\n",
       "      <td>Cumings, Mrs. John Bradley (Florence Briggs Th...</td>\n",
       "      <td>female</td>\n",
       "      <td>38.0</td>\n",
       "      <td>1</td>\n",
       "      <td>0</td>\n",
       "      <td>PC 17599</td>\n",
       "      <td>71.2833</td>\n",
       "      <td>C85</td>\n",
       "      <td>C</td>\n",
       "    </tr>\n",
       "    <tr>\n",
       "      <th>3</th>\n",
       "      <td>4</td>\n",
       "      <td>1</td>\n",
       "      <td>1</td>\n",
       "      <td>Futrelle, Mrs. Jacques Heath (Lily May Peel)</td>\n",
       "      <td>female</td>\n",
       "      <td>35.0</td>\n",
       "      <td>1</td>\n",
       "      <td>0</td>\n",
       "      <td>113803</td>\n",
       "      <td>53.1000</td>\n",
       "      <td>C123</td>\n",
       "      <td>S</td>\n",
       "    </tr>\n",
       "    <tr>\n",
       "      <th>6</th>\n",
       "      <td>7</td>\n",
       "      <td>0</td>\n",
       "      <td>1</td>\n",
       "      <td>McCarthy, Mr. Timothy J</td>\n",
       "      <td>male</td>\n",
       "      <td>54.0</td>\n",
       "      <td>0</td>\n",
       "      <td>0</td>\n",
       "      <td>17463</td>\n",
       "      <td>51.8625</td>\n",
       "      <td>E46</td>\n",
       "      <td>S</td>\n",
       "    </tr>\n",
       "    <tr>\n",
       "      <th>10</th>\n",
       "      <td>11</td>\n",
       "      <td>1</td>\n",
       "      <td>3</td>\n",
       "      <td>Sandstrom, Miss. Marguerite Rut</td>\n",
       "      <td>female</td>\n",
       "      <td>4.0</td>\n",
       "      <td>1</td>\n",
       "      <td>1</td>\n",
       "      <td>PP 9549</td>\n",
       "      <td>16.7000</td>\n",
       "      <td>G6</td>\n",
       "      <td>S</td>\n",
       "    </tr>\n",
       "    <tr>\n",
       "      <th>11</th>\n",
       "      <td>12</td>\n",
       "      <td>1</td>\n",
       "      <td>1</td>\n",
       "      <td>Bonnell, Miss. Elizabeth</td>\n",
       "      <td>female</td>\n",
       "      <td>58.0</td>\n",
       "      <td>0</td>\n",
       "      <td>0</td>\n",
       "      <td>113783</td>\n",
       "      <td>26.5500</td>\n",
       "      <td>C103</td>\n",
       "      <td>S</td>\n",
       "    </tr>\n",
       "  </tbody>\n",
       "</table>\n",
       "</div>"
      ],
      "text/plain": [
       "    PassengerId  Survived  Pclass  \\\n",
       "1             2         1       1   \n",
       "3             4         1       1   \n",
       "6             7         0       1   \n",
       "10           11         1       3   \n",
       "11           12         1       1   \n",
       "\n",
       "                                                 Name     Sex   Age  SibSp  \\\n",
       "1   Cumings, Mrs. John Bradley (Florence Briggs Th...  female  38.0      1   \n",
       "3        Futrelle, Mrs. Jacques Heath (Lily May Peel)  female  35.0      1   \n",
       "6                             McCarthy, Mr. Timothy J    male  54.0      0   \n",
       "10                    Sandstrom, Miss. Marguerite Rut  female   4.0      1   \n",
       "11                           Bonnell, Miss. Elizabeth  female  58.0      0   \n",
       "\n",
       "    Parch    Ticket     Fare Cabin Embarked  \n",
       "1       0  PC 17599  71.2833   C85        C  \n",
       "3       0    113803  53.1000  C123        S  \n",
       "6       0     17463  51.8625   E46        S  \n",
       "10      1   PP 9549  16.7000    G6        S  \n",
       "11      0    113783  26.5500  C103        S  "
      ]
     },
     "execution_count": 23,
     "metadata": {},
     "output_type": "execute_result"
    }
   ],
   "source": [
    "df_titanic = pd.read_csv('train.csv', sep=',').dropna()\n",
    "df_titanic.head()"
   ]
  },
  {
   "cell_type": "markdown",
   "metadata": {},
   "source": [
    "## Бинарные признаки\n",
    "Это признаки с двумя возможными значениями\n",
    "* Пол (мужской, женский)\n",
    "* Выжил (да, нет)\n",
    "\n",
    "На вход в алгоритмы обычно подаются в виде значений `{0, 1}` (реже в виде `{-1, 1}`)"
   ]
  },
  {
   "cell_type": "code",
   "execution_count": 24,
   "metadata": {
    "collapsed": false
   },
   "outputs": [
    {
     "data": {
      "text/plain": [
       "1    123\n",
       "0     60\n",
       "Name: Survived, dtype: int64"
      ]
     },
     "execution_count": 24,
     "metadata": {},
     "output_type": "execute_result"
    }
   ],
   "source": [
    "# Здесь все нормально\n",
    "df_titanic.Survived.value_counts()"
   ]
  },
  {
   "cell_type": "code",
   "execution_count": 25,
   "metadata": {
    "collapsed": false
   },
   "outputs": [
    {
     "data": {
      "text/plain": [
       "male      95\n",
       "female    88\n",
       "Name: Sex, dtype: int64"
      ]
     },
     "execution_count": 25,
     "metadata": {},
     "output_type": "execute_result"
    }
   ],
   "source": [
    "# Тут стоит выполнить переобознаение\n",
    "df_titanic.Sex.value_counts()"
   ]
  },
  {
   "cell_type": "code",
   "execution_count": 26,
   "metadata": {
    "collapsed": false
   },
   "outputs": [
    {
     "data": {
      "text/plain": [
       "0    95\n",
       "1    88\n",
       "Name: Sex, dtype: int64"
      ]
     },
     "execution_count": 26,
     "metadata": {},
     "output_type": "execute_result"
    }
   ],
   "source": [
    "# Например так\n",
    "df_titanic.Sex = df_titanic.Sex.replace({'male': 0, 'female': 1})\n",
    "df_titanic.Sex.value_counts()"
   ]
  },
  {
   "cell_type": "markdown",
   "metadata": {},
   "source": [
    "## Вещественные признаки\n",
    "\n",
    "* Возраст\n",
    "* Сумма, потраченная на билет\n",
    "* Количество родственников на борту\n",
    "\n",
    "Как правило остаются в том же виде или выполняется **нормализация** признаков, т.е. переход к одинаковой шкале, например:\n",
    "\n",
    "* $\\tilde{x} = \\frac{x - \\text{mean}(x)}{\\text{std}(x)}$\n",
    "* $\\tilde{x} = \\frac{x - \\text{min}(x)}{\\text{max}(x) - \\text{min}(x)}$"
   ]
  },
  {
   "cell_type": "markdown",
   "metadata": {},
   "source": [
    "## Категориальные признаки\n",
    "\n",
    "Принимают значения из *неупорядоченного* множества\n",
    "\n",
    "* Порт погрузки (C = Cherbourg; Q = Queenstown; S = Southampton)\n",
    "* Точка отправления (St Louis, MO; Montreal, PQ; .. }\n",
    "* Точка назначения (Chesterville, ON; Roseville, IL; .. }\n",
    "\n",
    "Обычно такие признаки кодируют с помощью так называемого One Hot Encoding: </br>\n",
    "для каждой категории создается бинарная маска-столбец, в которой стоит `1` если значение признака равно значению соответствующей категории категории.\n",
    "\n",
    "Например, для признака \"порт погрзки\" создается бинарная макска из трех стобцов для каждого из портов: С, Q, S<br/>\n",
    "Если пассажир заходил на кораблю в порту Southampton, то его признаковое описание будет соответственно: `[0, 0, 1]`"
   ]
  },
  {
   "cell_type": "code",
   "execution_count": 27,
   "metadata": {
    "collapsed": false
   },
   "outputs": [
    {
     "data": {
      "text/plain": [
       "1     C\n",
       "3     S\n",
       "6     S\n",
       "10    S\n",
       "11    S\n",
       "Name: Embarked, dtype: object"
      ]
     },
     "execution_count": 27,
     "metadata": {},
     "output_type": "execute_result"
    }
   ],
   "source": [
    "df_titanic.Embarked.head()"
   ]
  },
  {
   "cell_type": "code",
   "execution_count": 28,
   "metadata": {
    "collapsed": false
   },
   "outputs": [
    {
     "data": {
      "text/html": [
       "<div>\n",
       "<table border=\"1\" class=\"dataframe\">\n",
       "  <thead>\n",
       "    <tr style=\"text-align: right;\">\n",
       "      <th></th>\n",
       "      <th>Embarked=C</th>\n",
       "      <th>Embarked=Q</th>\n",
       "      <th>Embarked=S</th>\n",
       "    </tr>\n",
       "  </thead>\n",
       "  <tbody>\n",
       "    <tr>\n",
       "      <th>1</th>\n",
       "      <td>1</td>\n",
       "      <td>0</td>\n",
       "      <td>0</td>\n",
       "    </tr>\n",
       "    <tr>\n",
       "      <th>3</th>\n",
       "      <td>0</td>\n",
       "      <td>0</td>\n",
       "      <td>1</td>\n",
       "    </tr>\n",
       "    <tr>\n",
       "      <th>6</th>\n",
       "      <td>0</td>\n",
       "      <td>0</td>\n",
       "      <td>1</td>\n",
       "    </tr>\n",
       "    <tr>\n",
       "      <th>10</th>\n",
       "      <td>0</td>\n",
       "      <td>0</td>\n",
       "      <td>1</td>\n",
       "    </tr>\n",
       "    <tr>\n",
       "      <th>11</th>\n",
       "      <td>0</td>\n",
       "      <td>0</td>\n",
       "      <td>1</td>\n",
       "    </tr>\n",
       "  </tbody>\n",
       "</table>\n",
       "</div>"
      ],
      "text/plain": [
       "    Embarked=C  Embarked=Q  Embarked=S\n",
       "1            1           0           0\n",
       "3            0           0           1\n",
       "6            0           0           1\n",
       "10           0           0           1\n",
       "11           0           0           1"
      ]
     },
     "execution_count": 28,
     "metadata": {},
     "output_type": "execute_result"
    }
   ],
   "source": [
    "# Сделать в python это можно несколькими способами:\n",
    "\n",
    "# 1: Через pandas (не очень рекомендуется)\n",
    "emb = pd.get_dummies(df_titanic.Embarked, prefix='Embarked', prefix_sep='=')\n",
    "emb.head()"
   ]
  },
  {
   "cell_type": "code",
   "execution_count": 29,
   "metadata": {
    "collapsed": false
   },
   "outputs": [
    {
     "data": {
      "text/plain": [
       "array([[ 1.,  0.,  0.],\n",
       "       [ 0.,  0.,  1.],\n",
       "       [ 0.,  0.,  1.],\n",
       "       [ 0.,  0.,  1.],\n",
       "       [ 0.,  0.,  1.]])"
      ]
     },
     "execution_count": 29,
     "metadata": {},
     "output_type": "execute_result"
    }
   ],
   "source": [
    "# 2: Функционал sklearn\n",
    "from sklearn.preprocessing import OneHotEncoder\n",
    "\n",
    "encoder = OneHotEncoder(sparse=False)\n",
    "\n",
    "emb = df_titanic.loc[:, ['Embarked']].replace({'C': 0, 'Q': 1, 'S': 2}).values\n",
    "emb_enc = encoder.fit_transform(emb)\n",
    "emb_enc[:5]\n"
   ]
  },
  {
   "cell_type": "markdown",
   "metadata": {},
   "source": [
    "Про другием способы работы с категориальными переменными можно прочитать вот [тут](https://alexanderdyakonov.wordpress.com/2016/08/03/python-%D0%BA%D0%B0%D1%82%D0%B5%D0%B3%D0%BE%D1%80%D0%B8%D0%B0%D0%BB%D1%8C%D0%BD%D1%8B%D0%B5-%D0%BF%D1%80%D0%B8%D0%B7%D0%BD%D0%B0%D0%BA%D0%B8/)"
   ]
  },
  {
   "cell_type": "markdown",
   "metadata": {},
   "source": [
    "## Порядковый признаки"
   ]
  },
  {
   "cell_type": "markdown",
   "metadata": {},
   "source": [
    "Принимают значения из *упорядоченного* множества\n",
    "\n",
    "* Класс каюты (1 > 2 > 3)\n",
    "\n",
    "В зависимости от метода остаются можно оставить в исходном виде или применить OneHotEncoding."
   ]
  },
  {
   "cell_type": "markdown",
   "metadata": {},
   "source": [
    "## Текстовые признаки - Bag of words"
   ]
  },
  {
   "cell_type": "markdown",
   "metadata": {},
   "source": [
    "Для демонстрации возьмем текст стихотворения Блока:\n",
    "\n",
    "Ночь, улица, фонарь, аптека,<br/>\n",
    "Бессмысленный и тусклый свет.<br/>\n",
    "Живи еще хоть четверть века -<br/>\n",
    "Все будет так. Исхода нет.<br/>\n",
    "\n",
    "Умрешь - начнешь опять сначала<br/>\n",
    "И повторится все, как встарь:<br/>\n",
    "Ночь, ледяная рябь канала,<br/>\n",
    "Аптека, улица, фонарь.<br/>\n",
    "\n",
    "Пусть каждая строчка - это будет условный документ. Переведем эти документы в числовое представление по методу мешка слов (Bag Of Words)"
   ]
  },
  {
   "cell_type": "code",
   "execution_count": 30,
   "metadata": {
    "collapsed": false
   },
   "outputs": [],
   "source": [
    "from sklearn.feature_extraction.text import CountVectorizer\n",
    "from sklearn.feature_extraction.text import TfidfVectorizer\n",
    "\n",
    "corpus = \\\n",
    "[u'Ночь, улица, фонарь, аптека,',\n",
    " u'Бессмысленный и тусклый свет.',\n",
    " u'Живи еще хоть четверть века -',\n",
    " u'Все будет так. Исхода нет.',\n",
    " u'Умрешь - начнешь опять сначала',\n",
    " u'И повторится все, как встарь:',\n",
    " u'Ночь, ледяная рябь канала,',\n",
    " u'Аптека, улица, фонарь.']"
   ]
  },
  {
   "cell_type": "code",
   "execution_count": 31,
   "metadata": {
    "collapsed": false
   },
   "outputs": [
    {
     "data": {
      "text/plain": [
       "(8L, 27L)"
      ]
     },
     "execution_count": 31,
     "metadata": {},
     "output_type": "execute_result"
    }
   ],
   "source": [
    "vect = CountVectorizer()\n",
    "\n",
    "bow = vect.fit_transform(corpus)\n",
    "bow = bow.toarray()\n",
    "bow.shape"
   ]
  },
  {
   "cell_type": "markdown",
   "metadata": {},
   "source": [
    "Получили матрицу размера $8 \\times 27$, так как у нас 8 строчек и выделилось 27 униальных слов. Элемент матрицы показывает сколько раз слово встречалось в соответствующем документе."
   ]
  },
  {
   "cell_type": "code",
   "execution_count": 32,
   "metadata": {
    "collapsed": false
   },
   "outputs": [
    {
     "data": {
      "text/plain": [
       "array([[1, 0, 0, 0, 0, 0, 0, 0, 0, 0, 0, 0, 0, 0, 1, 0, 0, 0, 0, 0, 0, 0,\n",
       "        1, 0, 1, 0, 0],\n",
       "       [0, 1, 0, 0, 0, 0, 0, 0, 0, 0, 0, 0, 0, 0, 0, 0, 0, 0, 1, 0, 0, 1,\n",
       "        0, 0, 0, 0, 0],\n",
       "       [0, 0, 0, 1, 0, 0, 1, 1, 0, 0, 0, 0, 0, 0, 0, 0, 0, 0, 0, 0, 0, 0,\n",
       "        0, 0, 0, 1, 1],\n",
       "       [0, 0, 1, 0, 1, 0, 0, 0, 1, 0, 0, 0, 0, 1, 0, 0, 0, 0, 0, 0, 1, 0,\n",
       "        0, 0, 0, 0, 0],\n",
       "       [0, 0, 0, 0, 0, 0, 0, 0, 0, 0, 0, 0, 1, 0, 0, 1, 0, 0, 0, 1, 0, 0,\n",
       "        0, 1, 0, 0, 0],\n",
       "       [0, 0, 0, 0, 1, 1, 0, 0, 0, 1, 0, 0, 0, 0, 0, 0, 1, 0, 0, 0, 0, 0,\n",
       "        0, 0, 0, 0, 0],\n",
       "       [0, 0, 0, 0, 0, 0, 0, 0, 0, 0, 1, 1, 0, 0, 1, 0, 0, 1, 0, 0, 0, 0,\n",
       "        0, 0, 0, 0, 0],\n",
       "       [1, 0, 0, 0, 0, 0, 0, 0, 0, 0, 0, 0, 0, 0, 0, 0, 0, 0, 0, 0, 0, 0,\n",
       "        1, 0, 1, 0, 0]], dtype=int64)"
      ]
     },
     "execution_count": 32,
     "metadata": {},
     "output_type": "execute_result"
    }
   ],
   "source": [
    "bow"
   ]
  },
  {
   "cell_type": "code",
   "execution_count": 33,
   "metadata": {
    "collapsed": false
   },
   "outputs": [
    {
     "name": "stdout",
     "output_type": "stream",
     "text": [
      "столбец 0: аптека\n",
      "столбец 1: бессмысленный\n",
      "столбец 2: будет\n",
      "столбец 3: века\n",
      "столбец 4: все\n",
      "столбец 5: встарь\n",
      "столбец 6: еще\n",
      "столбец 7: живи\n",
      "столбец 8: исхода\n",
      "столбец 9: как\n",
      "столбец 10: канала\n",
      "столбец 11: ледяная\n",
      "столбец 12: начнешь\n",
      "столбец 13: нет\n",
      "столбец 14: ночь\n",
      "столбец 15: опять\n",
      "столбец 16: повторится\n",
      "столбец 17: рябь\n",
      "столбец 18: свет\n",
      "столбец 19: сначала\n",
      "столбец 20: так\n",
      "столбец 21: тусклый\n",
      "столбец 22: улица\n",
      "столбец 23: умрешь\n",
      "столбец 24: фонарь\n",
      "столбец 25: хоть\n",
      "столбец 26: четверть\n"
     ]
    }
   ],
   "source": [
    "# Посмотрим какие слова стоят по столбцам\n",
    "for i, w in enumerate(vect.get_feature_names()):\n",
    "    print u'столбец %d: %s' % (i, w)"
   ]
  },
  {
   "cell_type": "markdown",
   "metadata": {},
   "source": [
    "# Туториал: Имплементация собственного метода"
   ]
  },
  {
   "cell_type": "markdown",
   "metadata": {},
   "source": [
    "Для решения задач вида \"имплементируйте метод X\" крайне желательно (но необязательно) реализовывать методы с помощью интерфейса sklearn. Ниже вы увидите пример очень простого **классификатора**. Используйте эти наработи для выполнения задания."
   ]
  },
  {
   "cell_type": "markdown",
   "metadata": {},
   "source": [
    "Загрузите [датасет](https://archive.ics.uci.edu/ml/machine-learning-databases/wine-quality/winequality-red.csv) с информацией о характеристиках вина и его качестве. (В метод `pd.read_csv()` можно подать веб-ссылку на данные и пандас их скачает и преобразует в `DataFrame`)."
   ]
  },
  {
   "cell_type": "code",
   "execution_count": 34,
   "metadata": {
    "collapsed": false
   },
   "outputs": [],
   "source": [
    "df_wine = pd.read_csv('https://archive.ics.uci.edu/ml/machine-learning-databases/wine-quality/winequality-red.csv', sep=';')"
   ]
  },
  {
   "cell_type": "code",
   "execution_count": 35,
   "metadata": {
    "collapsed": false
   },
   "outputs": [
    {
     "data": {
      "text/html": [
       "<div>\n",
       "<table border=\"1\" class=\"dataframe\">\n",
       "  <thead>\n",
       "    <tr style=\"text-align: right;\">\n",
       "      <th></th>\n",
       "      <th>fixed acidity</th>\n",
       "      <th>volatile acidity</th>\n",
       "      <th>citric acid</th>\n",
       "      <th>residual sugar</th>\n",
       "      <th>chlorides</th>\n",
       "      <th>free sulfur dioxide</th>\n",
       "      <th>total sulfur dioxide</th>\n",
       "      <th>density</th>\n",
       "      <th>pH</th>\n",
       "      <th>sulphates</th>\n",
       "      <th>alcohol</th>\n",
       "      <th>quality</th>\n",
       "    </tr>\n",
       "  </thead>\n",
       "  <tbody>\n",
       "    <tr>\n",
       "      <th>0</th>\n",
       "      <td>7.4</td>\n",
       "      <td>0.70</td>\n",
       "      <td>0.00</td>\n",
       "      <td>1.9</td>\n",
       "      <td>0.076</td>\n",
       "      <td>11.0</td>\n",
       "      <td>34.0</td>\n",
       "      <td>0.9978</td>\n",
       "      <td>3.51</td>\n",
       "      <td>0.56</td>\n",
       "      <td>9.4</td>\n",
       "      <td>5</td>\n",
       "    </tr>\n",
       "    <tr>\n",
       "      <th>1</th>\n",
       "      <td>7.8</td>\n",
       "      <td>0.88</td>\n",
       "      <td>0.00</td>\n",
       "      <td>2.6</td>\n",
       "      <td>0.098</td>\n",
       "      <td>25.0</td>\n",
       "      <td>67.0</td>\n",
       "      <td>0.9968</td>\n",
       "      <td>3.20</td>\n",
       "      <td>0.68</td>\n",
       "      <td>9.8</td>\n",
       "      <td>5</td>\n",
       "    </tr>\n",
       "    <tr>\n",
       "      <th>2</th>\n",
       "      <td>7.8</td>\n",
       "      <td>0.76</td>\n",
       "      <td>0.04</td>\n",
       "      <td>2.3</td>\n",
       "      <td>0.092</td>\n",
       "      <td>15.0</td>\n",
       "      <td>54.0</td>\n",
       "      <td>0.9970</td>\n",
       "      <td>3.26</td>\n",
       "      <td>0.65</td>\n",
       "      <td>9.8</td>\n",
       "      <td>5</td>\n",
       "    </tr>\n",
       "    <tr>\n",
       "      <th>3</th>\n",
       "      <td>11.2</td>\n",
       "      <td>0.28</td>\n",
       "      <td>0.56</td>\n",
       "      <td>1.9</td>\n",
       "      <td>0.075</td>\n",
       "      <td>17.0</td>\n",
       "      <td>60.0</td>\n",
       "      <td>0.9980</td>\n",
       "      <td>3.16</td>\n",
       "      <td>0.58</td>\n",
       "      <td>9.8</td>\n",
       "      <td>6</td>\n",
       "    </tr>\n",
       "    <tr>\n",
       "      <th>4</th>\n",
       "      <td>7.4</td>\n",
       "      <td>0.70</td>\n",
       "      <td>0.00</td>\n",
       "      <td>1.9</td>\n",
       "      <td>0.076</td>\n",
       "      <td>11.0</td>\n",
       "      <td>34.0</td>\n",
       "      <td>0.9978</td>\n",
       "      <td>3.51</td>\n",
       "      <td>0.56</td>\n",
       "      <td>9.4</td>\n",
       "      <td>5</td>\n",
       "    </tr>\n",
       "  </tbody>\n",
       "</table>\n",
       "</div>"
      ],
      "text/plain": [
       "   fixed acidity  volatile acidity  citric acid  residual sugar  chlorides  \\\n",
       "0            7.4              0.70         0.00             1.9      0.076   \n",
       "1            7.8              0.88         0.00             2.6      0.098   \n",
       "2            7.8              0.76         0.04             2.3      0.092   \n",
       "3           11.2              0.28         0.56             1.9      0.075   \n",
       "4            7.4              0.70         0.00             1.9      0.076   \n",
       "\n",
       "   free sulfur dioxide  total sulfur dioxide  density    pH  sulphates  \\\n",
       "0                 11.0                  34.0   0.9978  3.51       0.56   \n",
       "1                 25.0                  67.0   0.9968  3.20       0.68   \n",
       "2                 15.0                  54.0   0.9970  3.26       0.65   \n",
       "3                 17.0                  60.0   0.9980  3.16       0.58   \n",
       "4                 11.0                  34.0   0.9978  3.51       0.56   \n",
       "\n",
       "   alcohol  quality  \n",
       "0      9.4        5  \n",
       "1      9.8        5  \n",
       "2      9.8        5  \n",
       "3      9.8        6  \n",
       "4      9.4        5  "
      ]
     },
     "execution_count": 35,
     "metadata": {},
     "output_type": "execute_result"
    }
   ],
   "source": [
    "df_wine.head()"
   ]
  },
  {
   "cell_type": "markdown",
   "metadata": {},
   "source": [
    "Наша задача состоит в предсказании целевого признака `quality` по остальным признакам. `quality` - это вещественная переменная (оценка качества от 0 до 10). Упростим себе задачу - создадим новый столбец `quality_cat` по следующим правилам:\n",
    "\n",
    "* `quality_cat = 1` если `quality > 5` \n",
    "* `quality_cat = 0` - иначе \n",
    "\n",
    "Таким образом, `quality_cat` характерует \"плохое\" и \"хорошее\" вино."
   ]
  },
  {
   "cell_type": "code",
   "execution_count": 36,
   "metadata": {
    "collapsed": false
   },
   "outputs": [],
   "source": [
    "def prepocess_wine(df):\n",
    "    df.loc[:, 'quality_cat'] = (df.loc[:, 'quality'] > 5).astype(int)\n",
    "    df = df.drop('quality', axis=1)\n",
    "    \n",
    "    return df"
   ]
  },
  {
   "cell_type": "code",
   "execution_count": 37,
   "metadata": {
    "collapsed": false
   },
   "outputs": [
    {
     "data": {
      "text/html": [
       "<div>\n",
       "<table border=\"1\" class=\"dataframe\">\n",
       "  <thead>\n",
       "    <tr style=\"text-align: right;\">\n",
       "      <th></th>\n",
       "      <th>fixed acidity</th>\n",
       "      <th>volatile acidity</th>\n",
       "      <th>citric acid</th>\n",
       "      <th>residual sugar</th>\n",
       "      <th>chlorides</th>\n",
       "      <th>free sulfur dioxide</th>\n",
       "      <th>total sulfur dioxide</th>\n",
       "      <th>density</th>\n",
       "      <th>pH</th>\n",
       "      <th>sulphates</th>\n",
       "      <th>alcohol</th>\n",
       "      <th>quality_cat</th>\n",
       "    </tr>\n",
       "  </thead>\n",
       "  <tbody>\n",
       "    <tr>\n",
       "      <th>0</th>\n",
       "      <td>7.4</td>\n",
       "      <td>0.70</td>\n",
       "      <td>0.00</td>\n",
       "      <td>1.9</td>\n",
       "      <td>0.076</td>\n",
       "      <td>11.0</td>\n",
       "      <td>34.0</td>\n",
       "      <td>0.9978</td>\n",
       "      <td>3.51</td>\n",
       "      <td>0.56</td>\n",
       "      <td>9.4</td>\n",
       "      <td>0</td>\n",
       "    </tr>\n",
       "    <tr>\n",
       "      <th>1</th>\n",
       "      <td>7.8</td>\n",
       "      <td>0.88</td>\n",
       "      <td>0.00</td>\n",
       "      <td>2.6</td>\n",
       "      <td>0.098</td>\n",
       "      <td>25.0</td>\n",
       "      <td>67.0</td>\n",
       "      <td>0.9968</td>\n",
       "      <td>3.20</td>\n",
       "      <td>0.68</td>\n",
       "      <td>9.8</td>\n",
       "      <td>0</td>\n",
       "    </tr>\n",
       "    <tr>\n",
       "      <th>2</th>\n",
       "      <td>7.8</td>\n",
       "      <td>0.76</td>\n",
       "      <td>0.04</td>\n",
       "      <td>2.3</td>\n",
       "      <td>0.092</td>\n",
       "      <td>15.0</td>\n",
       "      <td>54.0</td>\n",
       "      <td>0.9970</td>\n",
       "      <td>3.26</td>\n",
       "      <td>0.65</td>\n",
       "      <td>9.8</td>\n",
       "      <td>0</td>\n",
       "    </tr>\n",
       "    <tr>\n",
       "      <th>3</th>\n",
       "      <td>11.2</td>\n",
       "      <td>0.28</td>\n",
       "      <td>0.56</td>\n",
       "      <td>1.9</td>\n",
       "      <td>0.075</td>\n",
       "      <td>17.0</td>\n",
       "      <td>60.0</td>\n",
       "      <td>0.9980</td>\n",
       "      <td>3.16</td>\n",
       "      <td>0.58</td>\n",
       "      <td>9.8</td>\n",
       "      <td>1</td>\n",
       "    </tr>\n",
       "    <tr>\n",
       "      <th>4</th>\n",
       "      <td>7.4</td>\n",
       "      <td>0.70</td>\n",
       "      <td>0.00</td>\n",
       "      <td>1.9</td>\n",
       "      <td>0.076</td>\n",
       "      <td>11.0</td>\n",
       "      <td>34.0</td>\n",
       "      <td>0.9978</td>\n",
       "      <td>3.51</td>\n",
       "      <td>0.56</td>\n",
       "      <td>9.4</td>\n",
       "      <td>0</td>\n",
       "    </tr>\n",
       "  </tbody>\n",
       "</table>\n",
       "</div>"
      ],
      "text/plain": [
       "   fixed acidity  volatile acidity  citric acid  residual sugar  chlorides  \\\n",
       "0            7.4              0.70         0.00             1.9      0.076   \n",
       "1            7.8              0.88         0.00             2.6      0.098   \n",
       "2            7.8              0.76         0.04             2.3      0.092   \n",
       "3           11.2              0.28         0.56             1.9      0.075   \n",
       "4            7.4              0.70         0.00             1.9      0.076   \n",
       "\n",
       "   free sulfur dioxide  total sulfur dioxide  density    pH  sulphates  \\\n",
       "0                 11.0                  34.0   0.9978  3.51       0.56   \n",
       "1                 25.0                  67.0   0.9968  3.20       0.68   \n",
       "2                 15.0                  54.0   0.9970  3.26       0.65   \n",
       "3                 17.0                  60.0   0.9980  3.16       0.58   \n",
       "4                 11.0                  34.0   0.9978  3.51       0.56   \n",
       "\n",
       "   alcohol  quality_cat  \n",
       "0      9.4            0  \n",
       "1      9.8            0  \n",
       "2      9.8            0  \n",
       "3      9.8            1  \n",
       "4      9.4            0  "
      ]
     },
     "execution_count": 37,
     "metadata": {},
     "output_type": "execute_result"
    }
   ],
   "source": [
    "df_wine = df_wine.pipe(prepocess_wine)\n",
    "df_wine.head()"
   ]
  },
  {
   "cell_type": "markdown",
   "metadata": {},
   "source": [
    "Нарисуем распределение хорошего и плохого вина по признаку `alcohol`."
   ]
  },
  {
   "cell_type": "code",
   "execution_count": 38,
   "metadata": {
    "collapsed": false
   },
   "outputs": [
    {
     "data": {
      "text/plain": [
       "<matplotlib.legend.Legend at 0xdc8e390>"
      ]
     },
     "execution_count": 38,
     "metadata": {},
     "output_type": "execute_result"
    },
    {
     "data": {
      "image/png": "[encoded data removed]",
      "text/plain": [
       "<matplotlib.figure.Figure at 0xd3d9898>"
      ]
     },
     "metadata": {},
     "output_type": "display_data"
    }
   ],
   "source": [
    "_, ax = plt.subplots(1,1)\n",
    "df_wine.query('quality_cat == 1').hist('alcohol', alpha=0.3, bins=20, label='good', ax=ax)\n",
    "df_wine.query('quality_cat == 0').hist('alcohol', alpha=0.3, bins=20, label='bad', ax=ax)\n",
    "ax.set_xlabel('alcohol')\n",
    "ax.set_ylabel('count')\n",
    "plt.legend()"
   ]
  },
  {
   "cell_type": "markdown",
   "metadata": {},
   "source": [
    "Визуально кажется, что можно найти некоторое пороговое значение признака `alcohol` $\\theta$, чтобы хорошо дискриминировать между плохими и хорошим вином:\n",
    "* Если `alcohol >` $\\theta$ - то предсказываем, что вино хорошее\n",
    "* Если `alcohol <=` $\\theta$ - то предсказываем, что вино плохое\n",
    "\n",
    "Обучаеть классификатор будем очень просто: перебирать значения признака alchol и считать **ошибку** классификации. То значение, где ошибка минимальна и будет оптимальным.\n",
    "\n",
    "Разделим целевой признак от остальных признаков"
   ]
  },
  {
   "cell_type": "code",
   "execution_count": 39,
   "metadata": {
    "collapsed": false
   },
   "outputs": [
    {
     "name": "stdout",
     "output_type": "stream",
     "text": [
      "[0 0 0 ..., 1 0 1]\n"
     ]
    }
   ],
   "source": [
    "X, y = df_wine.iloc[:, :-1].values, df_wine.iloc[:, -1].values\n",
    "print(y)"
   ]
  },
  {
   "cell_type": "markdown",
   "metadata": {},
   "source": [
    "Далее вы увидете пример реализации этого простого классификатора."
   ]
  },
  {
   "cell_type": "code",
   "execution_count": 40,
   "metadata": {
    "collapsed": true
   },
   "outputs": [],
   "source": [
    "from sklearn.base import BaseEstimator, ClassifierMixin\n",
    "\n",
    "class SimpleClassifier(BaseEstimator, ClassifierMixin): \n",
    "    \n",
    "    def __init__(self):\n",
    "        \"\"\"\n",
    "        Инициализация метода\n",
    "        \"\"\"\n",
    "        \n",
    "        self.threshold = 0\n",
    "\n",
    "    def fit(self, X, y=None):\n",
    "        \"\"\"\n",
    "        Выполняет процедуру обучения классификатора. В данном случае - перебор занчения признака alcohol.\n",
    "        Договоримся, что признак alcohol будет в последнем столбце матрицы X\n",
    "        \"\"\"\n",
    "        \n",
    "        alcohol = X[:,-1]\n",
    "        n = float(y.shape[0])\n",
    "        \n",
    "        # Задаем пространство поиска\n",
    "        alco_range = np.arange(alcohol.min(), alcohol.max(), 0.1)\n",
    "        \n",
    "        min_error_rate = 1\n",
    "                \n",
    "        #  Начинаем поиск\n",
    "        for theta in alco_range:\n",
    "            prediction = alcohol > theta\n",
    "            \n",
    "            error_rate = sum(prediction != y)/n\n",
    "            \n",
    "            if error_rate < min_error_rate:\n",
    "                min_error_rate = error_rate\n",
    "                self.threshold = theta  \n",
    "        print(min_error_rate)\n",
    "        \n",
    "        return self\n",
    "\n",
    "    def predict(self, X, y=None):\n",
    "        \"\"\"\n",
    "        Процедура предсказания класса по обученному порогу\n",
    "        \"\"\"\n",
    "        \n",
    "        return (X[:,-1] > self.threshold).astype(int)"
   ]
  },
  {
   "cell_type": "markdown",
   "metadata": {},
   "source": [
    "Обучаем модель"
   ]
  },
  {
   "cell_type": "code",
   "execution_count": 41,
   "metadata": {
    "collapsed": false
   },
   "outputs": [
    {
     "name": "stdout",
     "output_type": "stream",
     "text": [
      "0.295184490306\n",
      "Оптимальный порог: 10.000000\n"
     ]
    }
   ],
   "source": [
    "model = SimpleClassifier()\n",
    "model.fit(X, y)\n",
    "\n",
    "print 'Оптимальный порог: %f' % model.threshold"
   ]
  },
  {
   "cell_type": "markdown",
   "metadata": {},
   "source": [
    "Получаем предсказание модели (на обучающей выборке)"
   ]
  },
  {
   "cell_type": "code",
   "execution_count": 42,
   "metadata": {
    "collapsed": true
   },
   "outputs": [],
   "source": [
    "y_hat = model.predict(X)"
   ]
  },
  {
   "cell_type": "markdown",
   "metadata": {},
   "source": [
    "Оценим долю ошибок на обучающей выборке"
   ]
  },
  {
   "cell_type": "code",
   "execution_count": 43,
   "metadata": {
    "collapsed": false
   },
   "outputs": [
    {
     "name": "stdout",
     "output_type": "stream",
     "text": [
      "Доля ошибок на обучающей выборке: 0.295184\n"
     ]
    }
   ],
   "source": [
    "error_rate = sum(y_hat != y)/float(y.shape[0])\n",
    "print 'Доля ошибок на обучающей выборке: %f' % error_rate"
   ]
  },
  {
   "cell_type": "markdown",
   "metadata": {},
   "source": [
    "## Проверка метода на контрольной выборке\n",
    "\n",
    "Мы обучили наш метод на данных о красном виде. \n",
    "\n",
    "Посмотрим, выполняется ли так же хорошо закономерность между качеством и уровнем алкоголя в белом вине."
   ]
  },
  {
   "cell_type": "code",
   "execution_count": 45,
   "metadata": {
    "collapsed": false
   },
   "outputs": [
    {
     "data": {
      "text/html": [
       "<div>\n",
       "<table border=\"1\" class=\"dataframe\">\n",
       "  <thead>\n",
       "    <tr style=\"text-align: right;\">\n",
       "      <th></th>\n",
       "      <th>fixed acidity</th>\n",
       "      <th>volatile acidity</th>\n",
       "      <th>citric acid</th>\n",
       "      <th>residual sugar</th>\n",
       "      <th>chlorides</th>\n",
       "      <th>free sulfur dioxide</th>\n",
       "      <th>total sulfur dioxide</th>\n",
       "      <th>density</th>\n",
       "      <th>pH</th>\n",
       "      <th>sulphates</th>\n",
       "      <th>alcohol</th>\n",
       "      <th>quality_cat</th>\n",
       "    </tr>\n",
       "  </thead>\n",
       "  <tbody>\n",
       "    <tr>\n",
       "      <th>0</th>\n",
       "      <td>7.0</td>\n",
       "      <td>0.27</td>\n",
       "      <td>0.36</td>\n",
       "      <td>20.7</td>\n",
       "      <td>0.045</td>\n",
       "      <td>45.0</td>\n",
       "      <td>170.0</td>\n",
       "      <td>1.0010</td>\n",
       "      <td>3.00</td>\n",
       "      <td>0.45</td>\n",
       "      <td>8.8</td>\n",
       "      <td>1</td>\n",
       "    </tr>\n",
       "    <tr>\n",
       "      <th>1</th>\n",
       "      <td>6.3</td>\n",
       "      <td>0.30</td>\n",
       "      <td>0.34</td>\n",
       "      <td>1.6</td>\n",
       "      <td>0.049</td>\n",
       "      <td>14.0</td>\n",
       "      <td>132.0</td>\n",
       "      <td>0.9940</td>\n",
       "      <td>3.30</td>\n",
       "      <td>0.49</td>\n",
       "      <td>9.5</td>\n",
       "      <td>1</td>\n",
       "    </tr>\n",
       "    <tr>\n",
       "      <th>2</th>\n",
       "      <td>8.1</td>\n",
       "      <td>0.28</td>\n",
       "      <td>0.40</td>\n",
       "      <td>6.9</td>\n",
       "      <td>0.050</td>\n",
       "      <td>30.0</td>\n",
       "      <td>97.0</td>\n",
       "      <td>0.9951</td>\n",
       "      <td>3.26</td>\n",
       "      <td>0.44</td>\n",
       "      <td>10.1</td>\n",
       "      <td>1</td>\n",
       "    </tr>\n",
       "    <tr>\n",
       "      <th>3</th>\n",
       "      <td>7.2</td>\n",
       "      <td>0.23</td>\n",
       "      <td>0.32</td>\n",
       "      <td>8.5</td>\n",
       "      <td>0.058</td>\n",
       "      <td>47.0</td>\n",
       "      <td>186.0</td>\n",
       "      <td>0.9956</td>\n",
       "      <td>3.19</td>\n",
       "      <td>0.40</td>\n",
       "      <td>9.9</td>\n",
       "      <td>1</td>\n",
       "    </tr>\n",
       "    <tr>\n",
       "      <th>4</th>\n",
       "      <td>7.2</td>\n",
       "      <td>0.23</td>\n",
       "      <td>0.32</td>\n",
       "      <td>8.5</td>\n",
       "      <td>0.058</td>\n",
       "      <td>47.0</td>\n",
       "      <td>186.0</td>\n",
       "      <td>0.9956</td>\n",
       "      <td>3.19</td>\n",
       "      <td>0.40</td>\n",
       "      <td>9.9</td>\n",
       "      <td>1</td>\n",
       "    </tr>\n",
       "  </tbody>\n",
       "</table>\n",
       "</div>"
      ],
      "text/plain": [
       "   fixed acidity  volatile acidity  citric acid  residual sugar  chlorides  \\\n",
       "0            7.0              0.27         0.36            20.7      0.045   \n",
       "1            6.3              0.30         0.34             1.6      0.049   \n",
       "2            8.1              0.28         0.40             6.9      0.050   \n",
       "3            7.2              0.23         0.32             8.5      0.058   \n",
       "4            7.2              0.23         0.32             8.5      0.058   \n",
       "\n",
       "   free sulfur dioxide  total sulfur dioxide  density    pH  sulphates  \\\n",
       "0                 45.0                 170.0   1.0010  3.00       0.45   \n",
       "1                 14.0                 132.0   0.9940  3.30       0.49   \n",
       "2                 30.0                  97.0   0.9951  3.26       0.44   \n",
       "3                 47.0                 186.0   0.9956  3.19       0.40   \n",
       "4                 47.0                 186.0   0.9956  3.19       0.40   \n",
       "\n",
       "   alcohol  quality_cat  \n",
       "0      8.8            1  \n",
       "1      9.5            1  \n",
       "2     10.1            1  \n",
       "3      9.9            1  \n",
       "4      9.9            1  "
      ]
     },
     "execution_count": 45,
     "metadata": {},
     "output_type": "execute_result"
    }
   ],
   "source": [
    "df_wine_test = pd.read_csv('https://archive.ics.uci.edu/ml/machine-learning-databases/wine-quality/winequality-white.csv',\n",
    "                           sep=';')\n",
    "\n",
    "df_wine_test = df_wine_test.pipe(prepocess_wine)\n",
    "df_wine_test.head()"
   ]
  },
  {
   "cell_type": "code",
   "execution_count": 46,
   "metadata": {
    "collapsed": false
   },
   "outputs": [],
   "source": [
    "X_test, y_test = df_wine_test.iloc[:, :-1].values, df_wine_test.iloc[:, -1].values\n",
    "y_hat = model.predict(X_test)"
   ]
  },
  {
   "cell_type": "code",
   "execution_count": 47,
   "metadata": {
    "collapsed": false
   },
   "outputs": [
    {
     "name": "stdout",
     "output_type": "stream",
     "text": [
      "Доля ошибок на контрольной выборке: 0.312577\n"
     ]
    }
   ],
   "source": [
    "error_rate = sum(y_hat != y_test)/float(y_test.shape[0])\n",
    "print 'Доля ошибок на контрольной выборке: %f' % error_rate"
   ]
  },
  {
   "cell_type": "markdown",
   "metadata": {},
   "source": [
    "Получилось неплохо и это лишь наивный алгоритм на одном признаке! Ну а выводы делайте сами =)"
   ]
  },
  {
   "cell_type": "markdown",
   "metadata": {},
   "source": [
    "# Имплементация K-means\n",
    "\n",
    "Пользуясь наработками выше, имплементируйте метод k-means.</br> При инициализации необходимо задавать количество кластеров, функцию расстояния между кластерами (для оригинального k-means - евклидово расстояние) и начальное состояние генератора случайных чисел.\n",
    "\n",
    "После обучения, среди атрибутов класса `Kmeans` должны появится\n",
    "* Метки кластеров для объектов\n",
    "* Координаты центройдов кластеров\n",
    "\n",
    "k-means - это алгоритм **кластеризации**, а не классификации, а посему метод `.predict()` в нем фактически не нужен, но он может возвращать метки ближайшего кластера для объектов."
   ]
  },
  {
   "cell_type": "markdown",
   "metadata": {},
   "source": [
    "#### Задание 1 (5 баллов)\n",
    "\n",
    "Имплементируйте метод k-means"
   ]
  },
  {
   "cell_type": "code",
   "execution_count": 137,
   "metadata": {
    "collapsed": false
   },
   "outputs": [],
   "source": [
    "from sklearn.base import ClusterMixin\n",
    "from math import *\n",
    "\n",
    "class Kmeans(BaseEstimator, ClusterMixin): \n",
    "    \n",
    "    def __init__(self, k=2, metric='euclidean', max_iter=1000, random_state=None):\n",
    "        \"\"\"\n",
    "        Инициализация метода\n",
    "        :k - количество кластеров\n",
    "        :metric - функция расстояния между объектами\n",
    "        :max_iter - максиальное количество итераций\n",
    "        :random_state - seed для инициализации генератора случайных чисел\n",
    "        \"\"\"\n",
    "        \n",
    "        self.k = k\n",
    "        self.random_state = random_state\n",
    "        self.metric = metric\n",
    "        self.max_iter = max_iter\n",
    "\n",
    "    def fit(self, X, y=None):\n",
    "        \"\"\"\n",
    "        Процедура обучения k-means\n",
    "        \"\"\"\n",
    "        \n",
    "        # Инициализация генератора случайных чисел\n",
    "        np.random.seed(self.random_state)\n",
    "        \n",
    "        # Массив с метками кластеров для каждого объекта из X\n",
    "        self.labels = np.empty(X.shape[0])\n",
    "        \n",
    "        # Массив с центройдами кластеров\n",
    "        self.centroids = np.empty((self.k, X.shape[1]))\n",
    "        \n",
    "        ## Your Code Here\n",
    "        #задаём начальные центроиды и итерации цикла\n",
    "        self.centroids = np.random.random((self.k,X.shape[1]))\n",
    "        loop_range = np.arange(0,self.max_iter)\n",
    "         \n",
    "        #Цикл итераций\n",
    "        for iter in loop_range:\n",
    "            i = 0\n",
    "            new_centroids = np.zeros((self.k, X.shape[1]))\n",
    "            elem_count_per_clust = np.zeros(self.k)\n",
    "            \n",
    "            while i < X.shape[0]:\n",
    "                clust_n = 0\n",
    "                min_dist = sqrt(sum((self.centroids[clust_n]-X[i])**2))\n",
    "                self.labels[i] = clust_n\n",
    "                clust_n += 1\n",
    "                \n",
    "                while clust_n < self.k:\n",
    "                    eucl_dist = 0\n",
    "                    eucl_dist = sqrt(sum((self.centroids[clust_n]-X[i])**2))\n",
    "                    \n",
    "                    if eucl_dist < min_dist:\n",
    "                        min_dist = eucl_dist \n",
    "                        self.labels[i] = clust_n\n",
    "                        \n",
    "                    clust_n += 1\n",
    "            \n",
    "                elem_count_per_clust[self.labels[i]] += 1\n",
    "                new_centroids[self.labels[i]] += X[i]\n",
    "                i += 1\n",
    "            \n",
    "            #пересчитываем центроиды и считаем ихсмещение за шаг \n",
    "            clust_n = 0\n",
    "            diff = np.zeros(self.k)\n",
    "            while clust_n < self.k:\n",
    "                if elem_count_per_clust[clust_n] != 0:\n",
    "                    new_centroids[clust_n] /= elem_count_per_clust[clust_n]\n",
    "                else:\n",
    "                    new_centroids[clust_n] = self.centroids[clust_n]\n",
    "                diff[clust_n] = sqrt(sum((self.centroids[clust_n] - new_centroids[clust_n])**2))\n",
    "                clust_n += 1\n",
    "            \n",
    "            self.centroids = new_centroids\n",
    "            \n",
    "            #print(\"sum diff\")\n",
    "            #print(sum(diff))\n",
    "            #print(iter)\n",
    "            if sum(diff) < 0.01:\n",
    "                print(\"kol-vo iteraciy\")\n",
    "                print(iter)\n",
    "                break\n",
    "            \n",
    "        return self\n",
    "\n",
    "    def predict(self, X, y=None):\n",
    "        \"\"\"\n",
    "        Процедура предсказания кластера\n",
    "        \n",
    "        Возвращает метку ближайшего кластера для каждого объекта\n",
    "        \"\"\"\n",
    "        if X.shape[1] != self.centroids.shape[1]:\n",
    "            print(\"nepravilniy razmer \")\n",
    "            return 0,0\n",
    "        \n",
    "        labels = np.empty(X.shape[0])\n",
    "        elem_count_per_clust = np.zeros(self.k)\n",
    "        i = 0\n",
    "        \n",
    "        #расставляем лейблы кластеров множесту Х по центроидам после обучения\n",
    "        while i < X.shape[0]:\n",
    "            clust_n = 0\n",
    "            min_dist = sqrt(sum((self.centroids[clust_n]-X[i])**2))\n",
    "            labels[i] = clust_n\n",
    "            clust_n += 1\n",
    "                \n",
    "            while clust_n < self.k:\n",
    "                eucl_dist = 0\n",
    "                eucl_dist = sqrt(sum((self.centroids[clust_n]-X[i])**2))\n",
    "                    \n",
    "                if eucl_dist < min_dist:\n",
    "                    min_dist = eucl_dist \n",
    "                    labels[i] = clust_n\n",
    "                        \n",
    "                clust_n += 1\n",
    "            \n",
    "            elem_count_per_clust[labels[i]] += 1\n",
    "            i += 1\n",
    "        \n",
    "        print(\"kol-vo elementov\")\n",
    "        print(elem_count_per_clust)\n",
    "        \n",
    "        return labels, self.centroids"
   ]
  },
  {
   "cell_type": "markdown",
   "metadata": {},
   "source": [
    "### Проверка корректности метода\n",
    "\n",
    "Перед тем как применять алгоритм на реальных данных, желатено испытать его на простых \"игрушечных\" данных.\n",
    "\n",
    "Если алгоритм реализован правильно, то метод должен идеально разбивать на 3 кластера данные ниже. Проверьте это."
   ]
  },
  {
   "cell_type": "code",
   "execution_count": 49,
   "metadata": {
    "collapsed": false
   },
   "outputs": [],
   "source": [
    "from sklearn.datasets import make_blobs\n"
   ]
  },
  {
   "cell_type": "code",
   "execution_count": 50,
   "metadata": {
    "collapsed": false
   },
   "outputs": [],
   "source": [
    "X, y = make_blobs(n_samples=100, n_features=2, centers=3, cluster_std=1, \n",
    "           center_box=(-10.0, 10.0), shuffle=False, random_state=1234)"
   ]
  },
  {
   "cell_type": "code",
   "execution_count": 51,
   "metadata": {
    "collapsed": false
   },
   "outputs": [
    {
     "data": {
      "text/plain": [
       "<matplotlib.collections.PathCollection at 0xd9bc5c0>"
      ]
     },
     "execution_count": 51,
     "metadata": {},
     "output_type": "execute_result"
    },
    {
     "data": {
      "image/png": "[encoded data removed]",
      "text/plain": [
       "<matplotlib.figure.Figure at 0xdc3ab00>"
      ]
     },
     "metadata": {},
     "output_type": "display_data"
    }
   ],
   "source": [
    "plt.scatter(X[:,0], X[:, 1], c=y)\n"
   ]
  },
  {
   "cell_type": "markdown",
   "metadata": {},
   "source": [
    "#### Задание 2 (1 балл) \n",
    "\n",
    "Проверьте вашу имплементацию на простых данных"
   ]
  },
  {
   "cell_type": "code",
   "execution_count": 138,
   "metadata": {
    "collapsed": false
   },
   "outputs": [
    {
     "name": "stdout",
     "output_type": "stream",
     "text": [
      "kol-vo iteraciy\n",
      "3\n",
      "kol-vo elementov\n",
      "[ 33.  33.  34.]\n"
     ]
    },
    {
     "name": "stderr",
     "output_type": "stream",
     "text": [
      "C:\\ProgramData\\Anaconda2\\lib\\site-packages\\ipykernel\\__main__.py:61: VisibleDeprecationWarning: using a non-integer number instead of an integer will result in an error in the future\n",
      "C:\\ProgramData\\Anaconda2\\lib\\site-packages\\ipykernel\\__main__.py:62: VisibleDeprecationWarning: using a non-integer number instead of an integer will result in an error in the future\n",
      "C:\\ProgramData\\Anaconda2\\lib\\site-packages\\ipykernel\\__main__.py:117: VisibleDeprecationWarning: using a non-integer number instead of an integer will result in an error in the future\n"
     ]
    },
    {
     "data": {
      "text/plain": [
       "<matplotlib.collections.PathCollection at 0x187662e8>"
      ]
     },
     "execution_count": 138,
     "metadata": {},
     "output_type": "execute_result"
    },
    {
     "data": {
      "image/png": "[encoded data removed]",
      "text/plain": [
       "<matplotlib.figure.Figure at 0x184c4240>"
      ]
     },
     "metadata": {},
     "output_type": "display_data"
    }
   ],
   "source": [
    "model = Kmeans(3)\n",
    "model.fit(X)\n",
    "y_hat, centroids= model.predict(X)\n",
    "\n",
    "plt.scatter(X[:,0], X[:, 1], c=y_hat)\n",
    "plt.scatter(centroids[:,0], centroids[:, 1], c=\"red\")\n",
    "\n",
    "\n"
   ]
  },
  {
   "cell_type": "markdown",
   "metadata": {},
   "source": [
    "# Применение K-means на реальных данных"
   ]
  },
  {
   "cell_type": "markdown",
   "metadata": {},
   "source": [
    "Загрузите [данные](https://github.com/brenden17/sklearnlab/blob/master/facebook/snsdata.csv) в которых содержится описание интересов профилей учеников старшей школы США."
   ]
  },
  {
   "cell_type": "code",
   "execution_count": 134,
   "metadata": {
    "collapsed": false
   },
   "outputs": [
    {
     "data": {
      "text/html": [
       "<div>\n",
       "<table border=\"1\" class=\"dataframe\">\n",
       "  <thead>\n",
       "    <tr style=\"text-align: right;\">\n",
       "      <th></th>\n",
       "      <th>gradyear</th>\n",
       "      <th>gender</th>\n",
       "      <th>age</th>\n",
       "      <th>friends</th>\n",
       "      <th>basketball</th>\n",
       "      <th>football</th>\n",
       "      <th>soccer</th>\n",
       "      <th>softball</th>\n",
       "      <th>volleyball</th>\n",
       "      <th>swimming</th>\n",
       "      <th>...</th>\n",
       "      <th>blonde</th>\n",
       "      <th>mall</th>\n",
       "      <th>shopping</th>\n",
       "      <th>clothes</th>\n",
       "      <th>hollister</th>\n",
       "      <th>abercrombie</th>\n",
       "      <th>die</th>\n",
       "      <th>death</th>\n",
       "      <th>drunk</th>\n",
       "      <th>drugs</th>\n",
       "    </tr>\n",
       "  </thead>\n",
       "  <tbody>\n",
       "    <tr>\n",
       "      <th>0</th>\n",
       "      <td>2006</td>\n",
       "      <td>M</td>\n",
       "      <td>18.982</td>\n",
       "      <td>7</td>\n",
       "      <td>0</td>\n",
       "      <td>0</td>\n",
       "      <td>0</td>\n",
       "      <td>0</td>\n",
       "      <td>0</td>\n",
       "      <td>0</td>\n",
       "      <td>...</td>\n",
       "      <td>0</td>\n",
       "      <td>0</td>\n",
       "      <td>0</td>\n",
       "      <td>0</td>\n",
       "      <td>0</td>\n",
       "      <td>0</td>\n",
       "      <td>0</td>\n",
       "      <td>0</td>\n",
       "      <td>0</td>\n",
       "      <td>0</td>\n",
       "    </tr>\n",
       "    <tr>\n",
       "      <th>1</th>\n",
       "      <td>2006</td>\n",
       "      <td>F</td>\n",
       "      <td>18.801</td>\n",
       "      <td>0</td>\n",
       "      <td>0</td>\n",
       "      <td>1</td>\n",
       "      <td>0</td>\n",
       "      <td>0</td>\n",
       "      <td>0</td>\n",
       "      <td>0</td>\n",
       "      <td>...</td>\n",
       "      <td>0</td>\n",
       "      <td>1</td>\n",
       "      <td>0</td>\n",
       "      <td>0</td>\n",
       "      <td>0</td>\n",
       "      <td>0</td>\n",
       "      <td>0</td>\n",
       "      <td>0</td>\n",
       "      <td>0</td>\n",
       "      <td>0</td>\n",
       "    </tr>\n",
       "    <tr>\n",
       "      <th>2</th>\n",
       "      <td>2006</td>\n",
       "      <td>M</td>\n",
       "      <td>18.335</td>\n",
       "      <td>69</td>\n",
       "      <td>0</td>\n",
       "      <td>1</td>\n",
       "      <td>0</td>\n",
       "      <td>0</td>\n",
       "      <td>0</td>\n",
       "      <td>0</td>\n",
       "      <td>...</td>\n",
       "      <td>0</td>\n",
       "      <td>0</td>\n",
       "      <td>0</td>\n",
       "      <td>0</td>\n",
       "      <td>0</td>\n",
       "      <td>0</td>\n",
       "      <td>0</td>\n",
       "      <td>1</td>\n",
       "      <td>0</td>\n",
       "      <td>0</td>\n",
       "    </tr>\n",
       "    <tr>\n",
       "      <th>3</th>\n",
       "      <td>2006</td>\n",
       "      <td>F</td>\n",
       "      <td>18.875</td>\n",
       "      <td>0</td>\n",
       "      <td>0</td>\n",
       "      <td>0</td>\n",
       "      <td>0</td>\n",
       "      <td>0</td>\n",
       "      <td>0</td>\n",
       "      <td>0</td>\n",
       "      <td>...</td>\n",
       "      <td>0</td>\n",
       "      <td>0</td>\n",
       "      <td>0</td>\n",
       "      <td>0</td>\n",
       "      <td>0</td>\n",
       "      <td>0</td>\n",
       "      <td>0</td>\n",
       "      <td>0</td>\n",
       "      <td>0</td>\n",
       "      <td>0</td>\n",
       "    </tr>\n",
       "    <tr>\n",
       "      <th>4</th>\n",
       "      <td>2006</td>\n",
       "      <td>NaN</td>\n",
       "      <td>18.995</td>\n",
       "      <td>10</td>\n",
       "      <td>0</td>\n",
       "      <td>0</td>\n",
       "      <td>0</td>\n",
       "      <td>0</td>\n",
       "      <td>0</td>\n",
       "      <td>0</td>\n",
       "      <td>...</td>\n",
       "      <td>0</td>\n",
       "      <td>0</td>\n",
       "      <td>2</td>\n",
       "      <td>0</td>\n",
       "      <td>0</td>\n",
       "      <td>0</td>\n",
       "      <td>0</td>\n",
       "      <td>0</td>\n",
       "      <td>1</td>\n",
       "      <td>1</td>\n",
       "    </tr>\n",
       "  </tbody>\n",
       "</table>\n",
       "<p>5 rows × 40 columns</p>\n",
       "</div>"
      ],
      "text/plain": [
       "   gradyear gender     age  friends  basketball  football  soccer  softball  \\\n",
       "0      2006      M  18.982        7           0         0       0         0   \n",
       "1      2006      F  18.801        0           0         1       0         0   \n",
       "2      2006      M  18.335       69           0         1       0         0   \n",
       "3      2006      F  18.875        0           0         0       0         0   \n",
       "4      2006    NaN  18.995       10           0         0       0         0   \n",
       "\n",
       "   volleyball  swimming  ...    blonde  mall  shopping  clothes  hollister  \\\n",
       "0           0         0  ...         0     0         0        0          0   \n",
       "1           0         0  ...         0     1         0        0          0   \n",
       "2           0         0  ...         0     0         0        0          0   \n",
       "3           0         0  ...         0     0         0        0          0   \n",
       "4           0         0  ...         0     0         2        0          0   \n",
       "\n",
       "   abercrombie  die  death  drunk  drugs  \n",
       "0            0    0      0      0      0  \n",
       "1            0    0      0      0      0  \n",
       "2            0    0      1      0      0  \n",
       "3            0    0      0      0      0  \n",
       "4            0    0      0      1      1  \n",
       "\n",
       "[5 rows x 40 columns]"
      ]
     },
     "execution_count": 134,
     "metadata": {},
     "output_type": "execute_result"
    }
   ],
   "source": [
    "df_sns = pd.read_csv('snsdata.csv', sep=',')\n",
    "df_sns.head()\n"
   ]
  },
  {
   "cell_type": "markdown",
   "metadata": {},
   "source": [
    "Данные устроены так: \n",
    "* Год выпуска\n",
    "* Пол\n",
    "* Возраст\n",
    "* Количество друзей\n",
    "* 36 ключевых слов, которые встречаются в профилe facebook (интересы, сообщества, встречи)"
   ]
  },
  {
   "cell_type": "markdown",
   "metadata": {},
   "source": [
    "#### Задание 3 (4 балла)\n",
    "\n",
    "* Удалите все признаки кроме 36 ключевых слов.\n",
    "* Нормализуйте данные - из каждого столбца вычтите его среднее значение и поделите на стандартное отклонение.\n",
    "* Используйте метод k-means чтобы выделить 9 кластеров\n",
    "* Попробуйте проинтерпретировать каждый кластер проанализировав полученные центройды (Некоторые кластеры могут быть очень большие и очень маленькие - плохо интерпретируются)"
   ]
  },
  {
   "cell_type": "code",
   "execution_count": 135,
   "metadata": {
    "collapsed": false
   },
   "outputs": [],
   "source": [
    "df_sns_36 = df_sns.iloc[:,4:].values\n",
    "df_sns_36 = (df_sns_36 - df_sns_36.mean(axis=0))/df_sns_36.std(axis=0)\n",
    "\n"
   ]
  },
  {
   "cell_type": "code",
   "execution_count": 139,
   "metadata": {
    "collapsed": false
   },
   "outputs": [
    {
     "name": "stderr",
     "output_type": "stream",
     "text": [
      "C:\\ProgramData\\Anaconda2\\lib\\site-packages\\ipykernel\\__main__.py:61: VisibleDeprecationWarning: using a non-integer number instead of an integer will result in an error in the future\n",
      "C:\\ProgramData\\Anaconda2\\lib\\site-packages\\ipykernel\\__main__.py:62: VisibleDeprecationWarning: using a non-integer number instead of an integer will result in an error in the future\n"
     ]
    },
    {
     "name": "stdout",
     "output_type": "stream",
     "text": [
      "kol-vo iteraciy\n",
      "61\n"
     ]
    },
    {
     "name": "stderr",
     "output_type": "stream",
     "text": [
      "C:\\ProgramData\\Anaconda2\\lib\\site-packages\\ipykernel\\__main__.py:117: VisibleDeprecationWarning: using a non-integer number instead of an integer will result in an error in the future\n"
     ]
    },
    {
     "name": "stdout",
     "output_type": "stream",
     "text": [
      "kol-vo elementov\n",
      "[   467.   1588.   4408.  18852.    748.    841.   1298.    895.    903.]\n"
     ]
    }
   ],
   "source": [
    "model_real = Kmeans(9)\n",
    "model_real.fit(df_sns_36)\n",
    "y_hat, centroids = model_real.predict(df_sns_36)\n"
   ]
  },
  {
   "cell_type": "markdown",
   "metadata": {},
   "source": [
    "# Попробуем проинтерпретировать центроиды "
   ]
  },
  {
   "cell_type": "code",
   "execution_count": 145,
   "metadata": {
    "collapsed": false
   },
   "outputs": [
    {
     "data": {
      "text/plain": [
       "array([[  9.35499207e-02,   4.30360350e-02,   4.59443237e-03,\n",
       "         -3.70660596e-03,  -5.97067895e-02,   5.89619187e-02,\n",
       "          8.41974506e-04,  -5.33728441e-02,  -7.39247494e-03,\n",
       "         -3.80217288e-02,  -3.41008289e-02,  -5.31727292e-03,\n",
       "         -1.01108491e-01,  -5.46128009e-04,  -5.12678163e-02,\n",
       "          2.66555896e-03,   9.77804722e-02,  -2.20796574e-02,\n",
       "          2.76024876e-01,   1.19982805e-01,   3.13052731e+00,\n",
       "          2.27764053e+00,   3.30812671e+00,   4.67770462e+00,\n",
       "          2.07930243e-02,  -8.67831353e-03,   4.18735632e-03,\n",
       "         -6.21403626e-02,   5.36500607e-02,   3.91923345e-02,\n",
       "         -9.03262607e-02,  -1.06432865e-01,   2.77822529e-01,\n",
       "          4.24811069e-01,   5.32199518e-02,   5.43992214e-02],\n",
       "       [  1.34872526e+00,   2.20370934e+00,   4.99987254e-01,\n",
       "          1.61874993e-02,   9.54945217e-03,   2.87134639e-02,\n",
       "          1.23252730e-01,   1.94494973e+00,   7.69218219e-03,\n",
       "          1.16933028e+00,  -5.62777804e-02,  -1.41651728e-03,\n",
       "          1.64218956e-02,  -6.83964547e-02,  -8.51635962e-02,\n",
       "         -3.90895558e-02,  -7.64182340e-02,  -1.06325092e-01,\n",
       "          5.74844229e-02,   2.36540091e-01,  -3.41754102e-02,\n",
       "          7.01527435e-02,  -1.18668450e-02,  -4.57804942e-02,\n",
       "          4.56782741e-03,  -1.10993164e-01,   5.50825193e-02,\n",
       "         -4.49821355e-02,  -1.33497556e-01,  -5.57172360e-02,\n",
       "         -1.10678876e-01,  -1.33474005e-01,  -7.49719559e-02,\n",
       "         -7.12242126e-02,  -6.73573767e-02,  -8.56022010e-02],\n",
       "       [ -6.02053072e-03,  -4.02818910e-02,   1.21784480e-01,\n",
       "         -8.80781961e-02,  -6.22225032e-02,   4.11150633e-01,\n",
       "          3.61746831e-01,  -9.53700723e-02,  -5.21009442e-02,\n",
       "         -5.85235702e-02,   7.81035475e-01,   1.00655086e-02,\n",
       "          3.46125333e-01,  -1.21066092e-02,  -1.62690105e-02,\n",
       "          6.02271846e-01,  -4.16960221e-02,  -1.25602391e-01,\n",
       "          3.02898005e-01,   1.48893133e-01,   7.73934961e-02,\n",
       "          2.49952131e-01,   6.03418310e-03,  -8.64939704e-02,\n",
       "          3.15390688e-01,  -7.42550903e-03,   2.01427383e-02,\n",
       "          6.53888593e-01,   9.22644936e-01,   5.81802775e-01,\n",
       "         -4.17058435e-02,  -6.36303717e-02,   6.95277016e-02,\n",
       "          1.69429036e-01,   3.84560465e-02,  -4.93860802e-02],\n",
       "       [ -1.64422690e-01,  -2.14689662e-01,  -8.44460826e-02,\n",
       "         -1.44223798e-01,  -1.32259952e-01,  -1.33896076e-01,\n",
       "         -1.22465081e-01,  -1.45323770e-01,  -1.01435454e-01,\n",
       "         -1.39961199e-01,  -2.34292009e-01,  -1.02738015e-01,\n",
       "         -1.19527809e-01,  -1.66600382e-01,  -1.37749991e-01,\n",
       "         -1.87943897e-01,  -1.31604428e-01,  -1.34955526e-01,\n",
       "         -1.63909076e-01,  -1.28563146e-01,  -1.15830735e-01,\n",
       "         -1.42719426e-01,  -8.25205656e-02,  -8.37741581e-02,\n",
       "         -2.27212253e-01,  -1.69968601e-01,  -3.11679305e-02,\n",
       "         -2.17845040e-01,  -2.82319434e-01,  -2.23533109e-01,\n",
       "         -1.60336999e-01,  -1.52867888e-01,  -1.00324561e-01,\n",
       "         -9.27605847e-02,  -9.35053175e-02,  -1.13971722e-01],\n",
       "       [ -1.21222729e-01,   4.32071422e-03,  -6.79657096e-02,\n",
       "         -5.88796369e-02,  -1.23391581e-01,   3.48298995e-02,\n",
       "         -1.03353882e-01,  -1.11443273e-01,  -3.44608602e-02,\n",
       "         -1.21168105e-01,  -8.24774152e-02,  -5.19192395e-02,\n",
       "         -4.96529861e-02,  -7.16997385e-02,  -6.08790447e-02,\n",
       "          1.37712270e-02,   3.35417355e+00,   4.83668632e+00,\n",
       "          3.78008070e-01,   1.52156496e-01,   2.88196780e-02,\n",
       "          5.95235471e-04,  -3.63719980e-02,  -4.54513822e-02,\n",
       "         -5.73264817e-02,  -2.98378233e-03,  -1.44560089e-02,\n",
       "         -1.31644702e-01,  -9.23601895e-02,  -5.96217345e-02,\n",
       "         -1.66779041e-01,  -1.44773266e-01,  -2.72018405e-02,\n",
       "          1.39370064e-02,  -8.30677400e-02,  -7.81755161e-02],\n",
       "       [  1.42110035e-01,   2.03669441e-01,   9.93723335e-02,\n",
       "         -7.34500011e-03,   1.03356840e-01,   2.43730688e-01,\n",
       "          4.16883088e-01,   1.53865453e-02,   9.32766740e-02,\n",
       "          9.15966632e-02,   3.83006989e-01,   1.99974431e-02,\n",
       "          1.17624568e-01,   3.56192687e-01,   6.35206094e-02,\n",
       "          2.33643098e-01,  -1.00930282e-01,  -1.08286461e-01,\n",
       "          1.45726271e-01,   6.33131218e-02,   3.26008181e-03,\n",
       "         -1.66924224e-02,  -2.91246823e-02,  -5.19531843e-02,\n",
       "          4.42534169e-01,   1.42014093e-01,   5.92587919e-02,\n",
       "          6.00822456e-01,   7.83199489e-01,   5.78920770e-01,\n",
       "          4.16697314e+00,   4.01514238e+00,   5.93514006e-02,\n",
       "          8.41995137e-02,   4.47479926e-02,   4.19010896e-02],\n",
       "       [  4.78713833e-02,   5.62670481e-02,   3.85110108e-02,\n",
       "         -6.06563693e-02,  -4.06763551e-02,   5.14852931e-02,\n",
       "          5.33108447e-02,  -6.67516136e-02,   1.51212428e+00,\n",
       "         -1.58258228e-02,   2.62031313e-01,  -1.42641685e-02,\n",
       "          1.74623149e-01,   2.15087642e+00,  -7.10224201e-02,\n",
       "          2.59863966e-01,   1.11001565e-02,  -1.09218213e-01,\n",
       "          5.67762702e-02,   5.14992055e-02,   5.45120645e-02,\n",
       "          1.34755511e-01,  -1.78300825e-02,  -5.90707636e-02,\n",
       "          1.44203795e-01,   2.17698826e+00,   1.01482089e-02,\n",
       "          2.22503503e-01,   3.23114206e-01,   1.22656707e-01,\n",
       "         -8.37278588e-02,  -6.72836384e-02,  -7.35472440e-03,\n",
       "         -1.81230145e-02,  -1.19306463e-02,  -6.78792876e-02],\n",
       "       [  5.92524087e-01,   1.72967412e-01,   5.92321046e-02,\n",
       "          3.52663504e+00,   3.09197642e+00,   1.18245459e-01,\n",
       "          1.42578316e-02,   9.01292122e-02,   8.29240802e-03,\n",
       "          4.40525295e-01,   5.29598543e-02,  -4.21802083e-02,\n",
       "         -1.34831113e-02,   5.52506185e-02,  -4.90600190e-02,\n",
       "          3.34058504e-03,  -6.10628283e-02,  -1.02501784e-01,\n",
       "         -2.44108111e-02,  -7.41918971e-03,   2.12586898e-02,\n",
       "          1.13727169e-01,   3.01569274e-02,  -4.96484800e-02,\n",
       "          3.64347693e-02,  -8.24178476e-03,   1.75193265e-02,\n",
       "          8.45631259e-02,   2.26840549e-01,   6.40475985e-02,\n",
       "         -1.45979864e-02,  -2.71551654e-02,  -7.65199770e-02,\n",
       "          4.03175619e-02,  -4.12366410e-02,  -5.84918882e-02],\n",
       "       [  3.54506188e-01,   3.36260353e-01,   1.37449963e-01,\n",
       "          6.20357305e-02,   7.91726675e-02,   2.62698731e-01,\n",
       "          1.82393991e-01,   1.91558347e-01,   1.22401549e-01,\n",
       "          7.72512248e-01,   4.82273105e-01,   2.18816835e+00,\n",
       "          5.25188047e-01,   2.39633870e-01,   3.27403868e+00,\n",
       "          4.48733476e-01,   3.95409558e-01,  -1.79826646e-02,\n",
       "          1.19530907e+00,   1.22872481e+00,   3.56030608e-01,\n",
       "          1.68507471e-01,   5.67394529e-02,   5.26864208e-02,\n",
       "          2.57950492e+00,   5.34200949e-01,   3.78396037e-01,\n",
       "          6.16940087e-01,   2.60262028e-01,   1.17835073e+00,\n",
       "          1.84936525e-01,   2.96300795e-01,   1.79767057e+00,\n",
       "          9.12345708e-01,   1.94106314e+00,   2.92444404e+00]])"
      ]
     },
     "execution_count": 145,
     "metadata": {},
     "output_type": "execute_result"
    }
   ],
   "source": [
    "centroids"
   ]
  },
  {
   "cell_type": "code",
   "execution_count": 161,
   "metadata": {
    "collapsed": false
   },
   "outputs": [
    {
     "data": {
      "text/html": [
       "<div>\n",
       "<table border=\"1\" class=\"dataframe\">\n",
       "  <thead>\n",
       "    <tr style=\"text-align: right;\">\n",
       "      <th></th>\n",
       "      <th>basketball</th>\n",
       "      <th>football</th>\n",
       "      <th>soccer</th>\n",
       "      <th>softball</th>\n",
       "      <th>volleyball</th>\n",
       "      <th>swimming</th>\n",
       "      <th>cheerleading</th>\n",
       "      <th>baseball</th>\n",
       "      <th>tennis</th>\n",
       "      <th>sports</th>\n",
       "      <th>cute</th>\n",
       "      <th>sex</th>\n",
       "      <th>sexy</th>\n",
       "      <th>hot</th>\n",
       "      <th>kissed</th>\n",
       "      <th>dance</th>\n",
       "      <th>band</th>\n",
       "      <th>marching</th>\n",
       "    </tr>\n",
       "  </thead>\n",
       "  <tbody>\n",
       "    <tr>\n",
       "      <th>0</th>\n",
       "      <td>0.093550</td>\n",
       "      <td>0.043036</td>\n",
       "      <td>0.004594</td>\n",
       "      <td>-0.003707</td>\n",
       "      <td>-0.059707</td>\n",
       "      <td>0.058962</td>\n",
       "      <td>0.000842</td>\n",
       "      <td>-0.053373</td>\n",
       "      <td>-0.007392</td>\n",
       "      <td>-0.038022</td>\n",
       "      <td>-0.034101</td>\n",
       "      <td>-0.005317</td>\n",
       "      <td>-0.101108</td>\n",
       "      <td>-0.000546</td>\n",
       "      <td>-0.051268</td>\n",
       "      <td>0.002666</td>\n",
       "      <td>0.097780</td>\n",
       "      <td>-0.022080</td>\n",
       "    </tr>\n",
       "    <tr>\n",
       "      <th>1</th>\n",
       "      <td>1.348725</td>\n",
       "      <td>2.203709</td>\n",
       "      <td>0.499987</td>\n",
       "      <td>0.016187</td>\n",
       "      <td>0.009549</td>\n",
       "      <td>0.028713</td>\n",
       "      <td>0.123253</td>\n",
       "      <td>1.944950</td>\n",
       "      <td>0.007692</td>\n",
       "      <td>1.169330</td>\n",
       "      <td>-0.056278</td>\n",
       "      <td>-0.001417</td>\n",
       "      <td>0.016422</td>\n",
       "      <td>-0.068396</td>\n",
       "      <td>-0.085164</td>\n",
       "      <td>-0.039090</td>\n",
       "      <td>-0.076418</td>\n",
       "      <td>-0.106325</td>\n",
       "    </tr>\n",
       "    <tr>\n",
       "      <th>2</th>\n",
       "      <td>-0.006021</td>\n",
       "      <td>-0.040282</td>\n",
       "      <td>0.121784</td>\n",
       "      <td>-0.088078</td>\n",
       "      <td>-0.062223</td>\n",
       "      <td>0.411151</td>\n",
       "      <td>0.361747</td>\n",
       "      <td>-0.095370</td>\n",
       "      <td>-0.052101</td>\n",
       "      <td>-0.058524</td>\n",
       "      <td>0.781035</td>\n",
       "      <td>0.010066</td>\n",
       "      <td>0.346125</td>\n",
       "      <td>-0.012107</td>\n",
       "      <td>-0.016269</td>\n",
       "      <td>0.602272</td>\n",
       "      <td>-0.041696</td>\n",
       "      <td>-0.125602</td>\n",
       "    </tr>\n",
       "    <tr>\n",
       "      <th>3</th>\n",
       "      <td>-0.164423</td>\n",
       "      <td>-0.214690</td>\n",
       "      <td>-0.084446</td>\n",
       "      <td>-0.144224</td>\n",
       "      <td>-0.132260</td>\n",
       "      <td>-0.133896</td>\n",
       "      <td>-0.122465</td>\n",
       "      <td>-0.145324</td>\n",
       "      <td>-0.101435</td>\n",
       "      <td>-0.139961</td>\n",
       "      <td>-0.234292</td>\n",
       "      <td>-0.102738</td>\n",
       "      <td>-0.119528</td>\n",
       "      <td>-0.166600</td>\n",
       "      <td>-0.137750</td>\n",
       "      <td>-0.187944</td>\n",
       "      <td>-0.131604</td>\n",
       "      <td>-0.134956</td>\n",
       "    </tr>\n",
       "    <tr>\n",
       "      <th>4</th>\n",
       "      <td>-0.121223</td>\n",
       "      <td>0.004321</td>\n",
       "      <td>-0.067966</td>\n",
       "      <td>-0.058880</td>\n",
       "      <td>-0.123392</td>\n",
       "      <td>0.034830</td>\n",
       "      <td>-0.103354</td>\n",
       "      <td>-0.111443</td>\n",
       "      <td>-0.034461</td>\n",
       "      <td>-0.121168</td>\n",
       "      <td>-0.082477</td>\n",
       "      <td>-0.051919</td>\n",
       "      <td>-0.049653</td>\n",
       "      <td>-0.071700</td>\n",
       "      <td>-0.060879</td>\n",
       "      <td>0.013771</td>\n",
       "      <td>3.354174</td>\n",
       "      <td>4.836686</td>\n",
       "    </tr>\n",
       "    <tr>\n",
       "      <th>5</th>\n",
       "      <td>0.142110</td>\n",
       "      <td>0.203669</td>\n",
       "      <td>0.099372</td>\n",
       "      <td>-0.007345</td>\n",
       "      <td>0.103357</td>\n",
       "      <td>0.243731</td>\n",
       "      <td>0.416883</td>\n",
       "      <td>0.015387</td>\n",
       "      <td>0.093277</td>\n",
       "      <td>0.091597</td>\n",
       "      <td>0.383007</td>\n",
       "      <td>0.019997</td>\n",
       "      <td>0.117625</td>\n",
       "      <td>0.356193</td>\n",
       "      <td>0.063521</td>\n",
       "      <td>0.233643</td>\n",
       "      <td>-0.100930</td>\n",
       "      <td>-0.108286</td>\n",
       "    </tr>\n",
       "    <tr>\n",
       "      <th>6</th>\n",
       "      <td>0.047871</td>\n",
       "      <td>0.056267</td>\n",
       "      <td>0.038511</td>\n",
       "      <td>-0.060656</td>\n",
       "      <td>-0.040676</td>\n",
       "      <td>0.051485</td>\n",
       "      <td>0.053311</td>\n",
       "      <td>-0.066752</td>\n",
       "      <td>1.512124</td>\n",
       "      <td>-0.015826</td>\n",
       "      <td>0.262031</td>\n",
       "      <td>-0.014264</td>\n",
       "      <td>0.174623</td>\n",
       "      <td>2.150876</td>\n",
       "      <td>-0.071022</td>\n",
       "      <td>0.259864</td>\n",
       "      <td>0.011100</td>\n",
       "      <td>-0.109218</td>\n",
       "    </tr>\n",
       "    <tr>\n",
       "      <th>7</th>\n",
       "      <td>0.592524</td>\n",
       "      <td>0.172967</td>\n",
       "      <td>0.059232</td>\n",
       "      <td>3.526635</td>\n",
       "      <td>3.091976</td>\n",
       "      <td>0.118245</td>\n",
       "      <td>0.014258</td>\n",
       "      <td>0.090129</td>\n",
       "      <td>0.008292</td>\n",
       "      <td>0.440525</td>\n",
       "      <td>0.052960</td>\n",
       "      <td>-0.042180</td>\n",
       "      <td>-0.013483</td>\n",
       "      <td>0.055251</td>\n",
       "      <td>-0.049060</td>\n",
       "      <td>0.003341</td>\n",
       "      <td>-0.061063</td>\n",
       "      <td>-0.102502</td>\n",
       "    </tr>\n",
       "    <tr>\n",
       "      <th>8</th>\n",
       "      <td>0.354506</td>\n",
       "      <td>0.336260</td>\n",
       "      <td>0.137450</td>\n",
       "      <td>0.062036</td>\n",
       "      <td>0.079173</td>\n",
       "      <td>0.262699</td>\n",
       "      <td>0.182394</td>\n",
       "      <td>0.191558</td>\n",
       "      <td>0.122402</td>\n",
       "      <td>0.772512</td>\n",
       "      <td>0.482273</td>\n",
       "      <td>2.188168</td>\n",
       "      <td>0.525188</td>\n",
       "      <td>0.239634</td>\n",
       "      <td>3.274039</td>\n",
       "      <td>0.448733</td>\n",
       "      <td>0.395410</td>\n",
       "      <td>-0.017983</td>\n",
       "    </tr>\n",
       "  </tbody>\n",
       "</table>\n",
       "</div>"
      ],
      "text/plain": [
       "   basketball  football    soccer  softball  volleyball  swimming  \\\n",
       "0    0.093550  0.043036  0.004594 -0.003707   -0.059707  0.058962   \n",
       "1    1.348725  2.203709  0.499987  0.016187    0.009549  0.028713   \n",
       "2   -0.006021 -0.040282  0.121784 -0.088078   -0.062223  0.411151   \n",
       "3   -0.164423 -0.214690 -0.084446 -0.144224   -0.132260 -0.133896   \n",
       "4   -0.121223  0.004321 -0.067966 -0.058880   -0.123392  0.034830   \n",
       "5    0.142110  0.203669  0.099372 -0.007345    0.103357  0.243731   \n",
       "6    0.047871  0.056267  0.038511 -0.060656   -0.040676  0.051485   \n",
       "7    0.592524  0.172967  0.059232  3.526635    3.091976  0.118245   \n",
       "8    0.354506  0.336260  0.137450  0.062036    0.079173  0.262699   \n",
       "\n",
       "   cheerleading  baseball    tennis    sports      cute       sex      sexy  \\\n",
       "0      0.000842 -0.053373 -0.007392 -0.038022 -0.034101 -0.005317 -0.101108   \n",
       "1      0.123253  1.944950  0.007692  1.169330 -0.056278 -0.001417  0.016422   \n",
       "2      0.361747 -0.095370 -0.052101 -0.058524  0.781035  0.010066  0.346125   \n",
       "3     -0.122465 -0.145324 -0.101435 -0.139961 -0.234292 -0.102738 -0.119528   \n",
       "4     -0.103354 -0.111443 -0.034461 -0.121168 -0.082477 -0.051919 -0.049653   \n",
       "5      0.416883  0.015387  0.093277  0.091597  0.383007  0.019997  0.117625   \n",
       "6      0.053311 -0.066752  1.512124 -0.015826  0.262031 -0.014264  0.174623   \n",
       "7      0.014258  0.090129  0.008292  0.440525  0.052960 -0.042180 -0.013483   \n",
       "8      0.182394  0.191558  0.122402  0.772512  0.482273  2.188168  0.525188   \n",
       "\n",
       "        hot    kissed     dance      band  marching  \n",
       "0 -0.000546 -0.051268  0.002666  0.097780 -0.022080  \n",
       "1 -0.068396 -0.085164 -0.039090 -0.076418 -0.106325  \n",
       "2 -0.012107 -0.016269  0.602272 -0.041696 -0.125602  \n",
       "3 -0.166600 -0.137750 -0.187944 -0.131604 -0.134956  \n",
       "4 -0.071700 -0.060879  0.013771  3.354174  4.836686  \n",
       "5  0.356193  0.063521  0.233643 -0.100930 -0.108286  \n",
       "6  2.150876 -0.071022  0.259864  0.011100 -0.109218  \n",
       "7  0.055251 -0.049060  0.003341 -0.061063 -0.102502  \n",
       "8  0.239634  3.274039  0.448733  0.395410 -0.017983  "
      ]
     },
     "execution_count": 161,
     "metadata": {},
     "output_type": "execute_result"
    }
   ],
   "source": [
    "from pandas import DataFrame\n",
    "dff = DataFrame(centroids, columns=df_sns.columns[4:])\n",
    "dff.iloc[:,:18]\n"
   ]
  },
  {
   "cell_type": "code",
   "execution_count": 162,
   "metadata": {
    "collapsed": false
   },
   "outputs": [
    {
     "data": {
      "text/html": [
       "<div>\n",
       "<table border=\"1\" class=\"dataframe\">\n",
       "  <thead>\n",
       "    <tr style=\"text-align: right;\">\n",
       "      <th></th>\n",
       "      <th>music</th>\n",
       "      <th>rock</th>\n",
       "      <th>god</th>\n",
       "      <th>church</th>\n",
       "      <th>jesus</th>\n",
       "      <th>bible</th>\n",
       "      <th>hair</th>\n",
       "      <th>dress</th>\n",
       "      <th>blonde</th>\n",
       "      <th>mall</th>\n",
       "      <th>shopping</th>\n",
       "      <th>clothes</th>\n",
       "      <th>hollister</th>\n",
       "      <th>abercrombie</th>\n",
       "      <th>die</th>\n",
       "      <th>death</th>\n",
       "      <th>drunk</th>\n",
       "      <th>drugs</th>\n",
       "    </tr>\n",
       "  </thead>\n",
       "  <tbody>\n",
       "    <tr>\n",
       "      <th>0</th>\n",
       "      <td>0.276025</td>\n",
       "      <td>0.119983</td>\n",
       "      <td>3.130527</td>\n",
       "      <td>2.277641</td>\n",
       "      <td>3.308127</td>\n",
       "      <td>4.677705</td>\n",
       "      <td>0.020793</td>\n",
       "      <td>-0.008678</td>\n",
       "      <td>0.004187</td>\n",
       "      <td>-0.062140</td>\n",
       "      <td>0.053650</td>\n",
       "      <td>0.039192</td>\n",
       "      <td>-0.090326</td>\n",
       "      <td>-0.106433</td>\n",
       "      <td>0.277823</td>\n",
       "      <td>0.424811</td>\n",
       "      <td>0.053220</td>\n",
       "      <td>0.054399</td>\n",
       "    </tr>\n",
       "    <tr>\n",
       "      <th>1</th>\n",
       "      <td>0.057484</td>\n",
       "      <td>0.236540</td>\n",
       "      <td>-0.034175</td>\n",
       "      <td>0.070153</td>\n",
       "      <td>-0.011867</td>\n",
       "      <td>-0.045780</td>\n",
       "      <td>0.004568</td>\n",
       "      <td>-0.110993</td>\n",
       "      <td>0.055083</td>\n",
       "      <td>-0.044982</td>\n",
       "      <td>-0.133498</td>\n",
       "      <td>-0.055717</td>\n",
       "      <td>-0.110679</td>\n",
       "      <td>-0.133474</td>\n",
       "      <td>-0.074972</td>\n",
       "      <td>-0.071224</td>\n",
       "      <td>-0.067357</td>\n",
       "      <td>-0.085602</td>\n",
       "    </tr>\n",
       "    <tr>\n",
       "      <th>2</th>\n",
       "      <td>0.302898</td>\n",
       "      <td>0.148893</td>\n",
       "      <td>0.077393</td>\n",
       "      <td>0.249952</td>\n",
       "      <td>0.006034</td>\n",
       "      <td>-0.086494</td>\n",
       "      <td>0.315391</td>\n",
       "      <td>-0.007426</td>\n",
       "      <td>0.020143</td>\n",
       "      <td>0.653889</td>\n",
       "      <td>0.922645</td>\n",
       "      <td>0.581803</td>\n",
       "      <td>-0.041706</td>\n",
       "      <td>-0.063630</td>\n",
       "      <td>0.069528</td>\n",
       "      <td>0.169429</td>\n",
       "      <td>0.038456</td>\n",
       "      <td>-0.049386</td>\n",
       "    </tr>\n",
       "    <tr>\n",
       "      <th>3</th>\n",
       "      <td>-0.163909</td>\n",
       "      <td>-0.128563</td>\n",
       "      <td>-0.115831</td>\n",
       "      <td>-0.142719</td>\n",
       "      <td>-0.082521</td>\n",
       "      <td>-0.083774</td>\n",
       "      <td>-0.227212</td>\n",
       "      <td>-0.169969</td>\n",
       "      <td>-0.031168</td>\n",
       "      <td>-0.217845</td>\n",
       "      <td>-0.282319</td>\n",
       "      <td>-0.223533</td>\n",
       "      <td>-0.160337</td>\n",
       "      <td>-0.152868</td>\n",
       "      <td>-0.100325</td>\n",
       "      <td>-0.092761</td>\n",
       "      <td>-0.093505</td>\n",
       "      <td>-0.113972</td>\n",
       "    </tr>\n",
       "    <tr>\n",
       "      <th>4</th>\n",
       "      <td>0.378008</td>\n",
       "      <td>0.152156</td>\n",
       "      <td>0.028820</td>\n",
       "      <td>0.000595</td>\n",
       "      <td>-0.036372</td>\n",
       "      <td>-0.045451</td>\n",
       "      <td>-0.057326</td>\n",
       "      <td>-0.002984</td>\n",
       "      <td>-0.014456</td>\n",
       "      <td>-0.131645</td>\n",
       "      <td>-0.092360</td>\n",
       "      <td>-0.059622</td>\n",
       "      <td>-0.166779</td>\n",
       "      <td>-0.144773</td>\n",
       "      <td>-0.027202</td>\n",
       "      <td>0.013937</td>\n",
       "      <td>-0.083068</td>\n",
       "      <td>-0.078176</td>\n",
       "    </tr>\n",
       "    <tr>\n",
       "      <th>5</th>\n",
       "      <td>0.145726</td>\n",
       "      <td>0.063313</td>\n",
       "      <td>0.003260</td>\n",
       "      <td>-0.016692</td>\n",
       "      <td>-0.029125</td>\n",
       "      <td>-0.051953</td>\n",
       "      <td>0.442534</td>\n",
       "      <td>0.142014</td>\n",
       "      <td>0.059259</td>\n",
       "      <td>0.600822</td>\n",
       "      <td>0.783199</td>\n",
       "      <td>0.578921</td>\n",
       "      <td>4.166973</td>\n",
       "      <td>4.015142</td>\n",
       "      <td>0.059351</td>\n",
       "      <td>0.084200</td>\n",
       "      <td>0.044748</td>\n",
       "      <td>0.041901</td>\n",
       "    </tr>\n",
       "    <tr>\n",
       "      <th>6</th>\n",
       "      <td>0.056776</td>\n",
       "      <td>0.051499</td>\n",
       "      <td>0.054512</td>\n",
       "      <td>0.134756</td>\n",
       "      <td>-0.017830</td>\n",
       "      <td>-0.059071</td>\n",
       "      <td>0.144204</td>\n",
       "      <td>2.176988</td>\n",
       "      <td>0.010148</td>\n",
       "      <td>0.222504</td>\n",
       "      <td>0.323114</td>\n",
       "      <td>0.122657</td>\n",
       "      <td>-0.083728</td>\n",
       "      <td>-0.067284</td>\n",
       "      <td>-0.007355</td>\n",
       "      <td>-0.018123</td>\n",
       "      <td>-0.011931</td>\n",
       "      <td>-0.067879</td>\n",
       "    </tr>\n",
       "    <tr>\n",
       "      <th>7</th>\n",
       "      <td>-0.024411</td>\n",
       "      <td>-0.007419</td>\n",
       "      <td>0.021259</td>\n",
       "      <td>0.113727</td>\n",
       "      <td>0.030157</td>\n",
       "      <td>-0.049648</td>\n",
       "      <td>0.036435</td>\n",
       "      <td>-0.008242</td>\n",
       "      <td>0.017519</td>\n",
       "      <td>0.084563</td>\n",
       "      <td>0.226841</td>\n",
       "      <td>0.064048</td>\n",
       "      <td>-0.014598</td>\n",
       "      <td>-0.027155</td>\n",
       "      <td>-0.076520</td>\n",
       "      <td>0.040318</td>\n",
       "      <td>-0.041237</td>\n",
       "      <td>-0.058492</td>\n",
       "    </tr>\n",
       "    <tr>\n",
       "      <th>8</th>\n",
       "      <td>1.195309</td>\n",
       "      <td>1.228725</td>\n",
       "      <td>0.356031</td>\n",
       "      <td>0.168507</td>\n",
       "      <td>0.056739</td>\n",
       "      <td>0.052686</td>\n",
       "      <td>2.579505</td>\n",
       "      <td>0.534201</td>\n",
       "      <td>0.378396</td>\n",
       "      <td>0.616940</td>\n",
       "      <td>0.260262</td>\n",
       "      <td>1.178351</td>\n",
       "      <td>0.184937</td>\n",
       "      <td>0.296301</td>\n",
       "      <td>1.797671</td>\n",
       "      <td>0.912346</td>\n",
       "      <td>1.941063</td>\n",
       "      <td>2.924444</td>\n",
       "    </tr>\n",
       "  </tbody>\n",
       "</table>\n",
       "</div>"
      ],
      "text/plain": [
       "      music      rock       god    church     jesus     bible      hair  \\\n",
       "0  0.276025  0.119983  3.130527  2.277641  3.308127  4.677705  0.020793   \n",
       "1  0.057484  0.236540 -0.034175  0.070153 -0.011867 -0.045780  0.004568   \n",
       "2  0.302898  0.148893  0.077393  0.249952  0.006034 -0.086494  0.315391   \n",
       "3 -0.163909 -0.128563 -0.115831 -0.142719 -0.082521 -0.083774 -0.227212   \n",
       "4  0.378008  0.152156  0.028820  0.000595 -0.036372 -0.045451 -0.057326   \n",
       "5  0.145726  0.063313  0.003260 -0.016692 -0.029125 -0.051953  0.442534   \n",
       "6  0.056776  0.051499  0.054512  0.134756 -0.017830 -0.059071  0.144204   \n",
       "7 -0.024411 -0.007419  0.021259  0.113727  0.030157 -0.049648  0.036435   \n",
       "8  1.195309  1.228725  0.356031  0.168507  0.056739  0.052686  2.579505   \n",
       "\n",
       "      dress    blonde      mall  shopping   clothes  hollister  abercrombie  \\\n",
       "0 -0.008678  0.004187 -0.062140  0.053650  0.039192  -0.090326    -0.106433   \n",
       "1 -0.110993  0.055083 -0.044982 -0.133498 -0.055717  -0.110679    -0.133474   \n",
       "2 -0.007426  0.020143  0.653889  0.922645  0.581803  -0.041706    -0.063630   \n",
       "3 -0.169969 -0.031168 -0.217845 -0.282319 -0.223533  -0.160337    -0.152868   \n",
       "4 -0.002984 -0.014456 -0.131645 -0.092360 -0.059622  -0.166779    -0.144773   \n",
       "5  0.142014  0.059259  0.600822  0.783199  0.578921   4.166973     4.015142   \n",
       "6  2.176988  0.010148  0.222504  0.323114  0.122657  -0.083728    -0.067284   \n",
       "7 -0.008242  0.017519  0.084563  0.226841  0.064048  -0.014598    -0.027155   \n",
       "8  0.534201  0.378396  0.616940  0.260262  1.178351   0.184937     0.296301   \n",
       "\n",
       "        die     death     drunk     drugs  \n",
       "0  0.277823  0.424811  0.053220  0.054399  \n",
       "1 -0.074972 -0.071224 -0.067357 -0.085602  \n",
       "2  0.069528  0.169429  0.038456 -0.049386  \n",
       "3 -0.100325 -0.092761 -0.093505 -0.113972  \n",
       "4 -0.027202  0.013937 -0.083068 -0.078176  \n",
       "5  0.059351  0.084200  0.044748  0.041901  \n",
       "6 -0.007355 -0.018123 -0.011931 -0.067879  \n",
       "7 -0.076520  0.040318 -0.041237 -0.058492  \n",
       "8  1.797671  0.912346  1.941063  2.924444  "
      ]
     },
     "execution_count": 162,
     "metadata": {},
     "output_type": "execute_result"
    }
   ],
   "source": [
    "dff.iloc[:,18:36]"
   ]
  },
  {
   "cell_type": "markdown",
   "metadata": {},
   "source": [
    "# Интерпретация \n",
    "* 0-кластер - явно религиозная группа людей, интересы: библия, бог, церковь, вопросы смерти.\n",
    "* 1-кластер - группа людей с основным интересом: спорт, бейсбол, баскетбол, футбол.\n",
    "* 2-кластер - скорее всего молодые девушки любят: немного спорт, черлидинг, танцы, встречаются слова \"милый\", \"секси\" и любят магазины,шопинг, одежда(вряд ли прани)\n",
    "* 3-кластер - активность по всем переменным примерна одинакова и чуть ниже среднего. Не имеют конкретных интересов, мало активны.\n",
    "* 4-кластер - ярко выражено только \"band\" и \"marching\" возможно те кто устраивают всякие митинги и т.д.\n",
    "* 5-кластер - шопоголики, модники. Интресы: причёска, шопинг, магазины и особенно так понимаю бренды одежды \"abercrombie\" и \"hollister\"\n",
    "* 6-кластер - фигурируют не связанные интересы: Тенис, \"hot\", платья\n",
    "* 7-кластер - Поклонники софтола и волейола.\n",
    "* 8-кластер - супер активная группа людей практически по всем темам, возможно молодёжь, заинтересованность в спорте, затрагиваются темы \"sex\" и \"поцелуи\", слушает много музыки, увлекается модой(причёски, магазины, одежда, шопинг) + темы смерти, алкоголь, наркотики.\n"
   ]
  },
  {
   "cell_type": "code",
   "execution_count": null,
   "metadata": {
    "collapsed": true
   },
   "outputs": [],
   "source": []
  }
 ],
 "metadata": {
  "anaconda-cloud": {},
  "celltoolbar": "Edit Metadata",
  "kernelspec": {
   "display_name": "Python 2",
   "language": "python",
   "name": "python2"
  },
  "language_info": {
   "codemirror_mode": {
    "name": "ipython",
    "version": 2
   },
   "file_extension": ".py",
   "mimetype": "text/x-python",
   "name": "python",
   "nbconvert_exporter": "python",
   "pygments_lexer": "ipython2",
   "version": "2.7.13"
  },
  "nav_menu": {},
  "toc": {
   "navigate_menu": true,
   "number_sections": false,
   "sideBar": true,
   "threshold": 6,
   "toc_cell": false,
   "toc_section_display": "block",
   "toc_window_display": true
  }
 },
 "nbformat": 4,
 "nbformat_minor": 2
}
